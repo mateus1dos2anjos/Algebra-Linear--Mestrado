{
 "cells": [
  {
   "cell_type": "markdown",
   "id": "992bad9f",
   "metadata": {},
   "source": [
    "# Algebra Linear Computacional - CKP8122 - MDCC - UFC\n",
    "### Francisco Mateus dos Anjos Silva\n",
    "# 1. Eliminação de Gauss com Pivotaçao Parcial e Total"
   ]
  },
  {
   "cell_type": "markdown",
   "id": "554d44f1",
   "metadata": {},
   "source": [
    "A Eliminação de Gauss é um algoritmo para se resolver sistemas de equações lineares. Este método consiste em aplicar sucessivas operações elementares num sistema linear, para o transformar num sistema de mais fácil resolução, que apresenta exatamente as mesmas soluções que o original.\n",
    "\n",
    "**Definição de matriz escalonada ou na forma de escada por linhas:**\n",
    "\n",
    "Uma matriz retangular está na sua forma escalonada ou na forma de escada por linhas quando satisfaz as seguintes condições:\n",
    "\n",
    "- Todas as linhas não-nulas estão acima de qualquer linha composta só de zeros;\n",
    "- O pivô de cada linha está numa coluna à direita do pivô da linha acima;\n",
    "- Todos os elementos de uma coluna abaixo de um pivô são zeros.\n",
    "\n",
    "Exemplo:\n",
    "\n",
    "$\\left[{\\begin{array}{rrrr}2&-3&2&1\\\\0&1&-4&8\\\\0&0&0&35\\end{array}}\\right]$\n",
    "\n",
    "Se uma matriz está na forma escalonada reduzida satisfaz ainda as seguintes características adicionais:\n",
    "\n",
    "- O pivô de cada linha não-nula é 1;\n",
    "- Cada pivô 1 é o único elemento não-nulo de sua coluna.\n",
    "\n",
    "Exemplo:\n",
    "\n",
    "$\\left[{\\begin{array}{rrrr}1&1&0&0\\\\0&0&1&0\\\\0&0&0&1\\end{array}}\\right]$\n",
    "\n",
    "**Operações elementares:**\n",
    "\n",
    "Existem três operações básicas que podem ser aplicadas a qualquer tipo de sistema linear, sem alterar sua solução:\n",
    "\n",
    "1. Trocar duas linhas entre si.\n",
    "2. Multiplicar todos os elementos de uma linha por uma constante não-nula.\n",
    "3. Substituir uma linha pela sua soma com um múltiplo de outra.\n",
    "\n",
    "Usando estas operações, uma matriz sempre pode ser transformada numa matriz na forma escalonada (forma de escada por linhas) e, posteriormente, ser posta na forma escalonada reduzida. Esta forma final, por sua vez, é única e independente da sequência de operações de linha usadas, sendo mais fácil de resolver que a versão original da matriz. Cabe, também, ressaltar que estas operações elementares são reversíveis, sendo possível retornar ao sistema inicial aplicando a sequência de operações novamente, mas na ordem inversa.\n",
    "\n",
    "\n",
    "**Referências:**\n",
    "- https://pt.wikipedia.org/wiki/Elimina%C3%A7%C3%A3o_de_Gauss-Jordan"
   ]
  },
  {
   "cell_type": "code",
   "execution_count": null,
   "id": "00c1e9b0",
   "metadata": {},
   "outputs": [],
   "source": [
    "# Implementar o método de eliminação de Gauss com pivotação parcial (depois estender para pivotação total) \n",
    "# para resolução de sistemas de equações algébricas lineares (Ax = b).\n",
    "# Obs: Depois de testar com casos pequenos, teste com matrizes 10 x10. "
   ]
  },
  {
   "cell_type": "code",
   "execution_count": 1,
   "id": "51789fd4",
   "metadata": {},
   "outputs": [],
   "source": [
    "import math"
   ]
  },
  {
   "cell_type": "code",
   "execution_count": 2,
   "id": "ab801586",
   "metadata": {
    "scrolled": true
   },
   "outputs": [],
   "source": [
    "# Aplica a Eliminação de Gaus para obter o sistema equivalente triagular superior\n",
    "def eliminationGaussPivPartial(A,b):\n",
    "    n = len(A)\n",
    "    \n",
    "    # Acessar linhas\n",
    "    for i in range(n):         \n",
    "        # Verificar qual o maior pivô\n",
    "        pivo = math.fabs(A[i][i])\n",
    "        linhaPivo = i\n",
    "        for j in range(i+1, len(A)):\n",
    "            if math.fabs(A[j][i]) > pivo:\n",
    "                pivo = math.fabs(A[j][i])\n",
    "                linhaPivo = j\n",
    "        \n",
    "        # Trocar as linhas \n",
    "        if linhaPivo != i:\n",
    "            linhaAux = A[i]\n",
    "            A[i] = A[linhaPivo]\n",
    "            A[linhaPivo] = linhaAux\n",
    "            \n",
    "            bAux = b[i]\n",
    "            b[i] = b[linhaPivo]\n",
    "            b[linhaPivo] = bAux\n",
    "            \n",
    "        # Eliminação de Gauss\n",
    "        for m in range(i+1, n):\n",
    "            mult = A[m][i]/A[i][i]\n",
    "            # Atualizar valores da linha m da matriz A\n",
    "            for k in range(i, n):\n",
    "                A[m][k] -= mult*A[i][k]\n",
    "            # Atualizar valores da linha m de b\n",
    "            b[m] -= mult*b[i]\n",
    "    \n",
    "    return A,b\n"
   ]
  },
  {
   "cell_type": "code",
   "execution_count": 3,
   "id": "991994fc",
   "metadata": {},
   "outputs": [],
   "source": [
    "# Aplica a Eliminação de Gauss para obter o sistema equivalente triagular superior\n",
    "def eliminationGaussPivTotal(A,b):\n",
    "    n = len(A)\n",
    "    \n",
    "    # Acessar linhas\n",
    "    for i in range(n):       \n",
    "        # Verificar qual o melhor pivô\n",
    "        pivo = math.fabs(A[i][i])\n",
    "        linhaPivo = i\n",
    "        for l in range(i, n):\n",
    "            for j in range(i, n):\n",
    "                if math.fabs(A[j][l]) != 0:\n",
    "                    pivo = math.fabs(A[j][i])\n",
    "                    linhaPivo = j\n",
    "                    colunaPivo = l\n",
    "                    \n",
    "        # Trocar as linhas \n",
    "        if linhaPivo != i:\n",
    "            linhaAux = A[i]\n",
    "            A[i] = A[linhaPivo]\n",
    "            A[linhaPivo] = linhaAux\n",
    "            \n",
    "            bAux = b[i]\n",
    "            b[i] = b[linhaPivo]\n",
    "            b[linhaPivo] = bAux\n",
    "            \n",
    "        # Trocar as colunas \n",
    "        if colunaPivo != i:          \n",
    "            colunaAux = []\n",
    "            for k in range(n):    \n",
    "                colunaAux.append(A[k][i])\n",
    "            \n",
    "            for k in range(n):\n",
    "                A[k][i] = A[k][colunaPivo]\n",
    "                A[k][colunaPivo] = colunaAux[k]\n",
    "            \n",
    "        # Eliminação de Gauss\n",
    "        for m in range(i+1, n):\n",
    "            mult = A[m][i]/A[i][i]\n",
    "            # Atualizar valores da linha m da matriz A\n",
    "            for k in range(i, n):\n",
    "                A[m][k] -= mult*A[i][k]\n",
    "            # Atualizar valores da linha m de b\n",
    "            b[m] -= mult*b[i]\n",
    "    \n",
    "    return A,b\n"
   ]
  },
  {
   "cell_type": "code",
   "execution_count": 4,
   "id": "23823444",
   "metadata": {},
   "outputs": [],
   "source": [
    "# Resolve sistema triangular superior\n",
    "def solveUpperTriangularMatrix(U,b):\n",
    "    n = len(U)\n",
    "    x = [0]*n\n",
    "    x[n-1] = b[n-1]/U[n-1][n-1]\n",
    "    \n",
    "    for i in range(n-1,0, -1): # i de n-1 até 1, decrementando 1\n",
    "        s = 0\n",
    "        for j in range(i+1,n+1): # j de i+1 até n\n",
    "            s += U[i-1][j-1]*x[j-1]\n",
    "\n",
    "        x[i-1] = (b[i-1]-s)/(U[i-1][i-1])\n",
    "\n",
    "    return x\n"
   ]
  },
  {
   "cell_type": "code",
   "execution_count": 21,
   "id": "ce0d40bc",
   "metadata": {
    "scrolled": true
   },
   "outputs": [],
   "source": [
    "# Teste com dados 1\n",
    "A1 = [[4, 6, -2],\n",
    "      [4, 4, -3],\n",
    "      [6, -9,-9]]\n",
    "\n",
    "b1 = [10, 3, -3]\n",
    "\n",
    "# Teste com dados 2\n",
    "A2 = [[1, 2, -1],\n",
    "      [2, -1, 1],\n",
    "      [1, 1, 1]]\n",
    "\n",
    "b2 = [2, 3, 6]\n",
    "\n",
    "# Teste com dados 3\n",
    "A3 = [[1,2,3,4,5,6,7,8,9,10],\n",
    "      [10,2,2,3,4,5,6,7,8,9],\n",
    "      [9,10,1,2,3,4,5,6,7,8],\n",
    "      [8,9,10,1,2,3,4,5,6,7],\n",
    "      [7,8,9,10,1,2,3,4,5,6],\n",
    "      [6,7,8,9,10,1,2,3,4,5],\n",
    "      [5,6,7,8,9,10,1,2,3,4],\n",
    "      [4,5,6,7,8,9,10,1,2,3],\n",
    "      [3,4,5,6,7,8,9,10,1,2],\n",
    "      [2,3,4,5,6,7,8,9,10,2]]\n",
    "\n",
    "b3 = [55, 56, 57, 58, 59, 60, 61, 62, 63, 64]\n"
   ]
  },
  {
   "cell_type": "code",
   "execution_count": 6,
   "id": "a014a3ec",
   "metadata": {},
   "outputs": [
    {
     "name": "stdout",
     "output_type": "stream",
     "text": [
      "U = [[6, -9, -9], [0.0, 12.0, 4.0], [0.0, 0.0, -0.3333333333333335]]\n",
      "b = [-3, 12.0, -5.0]\n",
      "x = [15.999999999999995, -3.999999999999998, 14.999999999999993]\n"
     ]
    }
   ],
   "source": [
    "U,b = eliminationGaussPivPartial(A1,b1)\n",
    "print(\"U =\",U)\n",
    "print(\"b =\",b)\n",
    "\n",
    "x = solveUpperTriangularMatrix(U,b)\n",
    "print(\"x =\", x)"
   ]
  },
  {
   "cell_type": "code",
   "execution_count": 7,
   "id": "dfc9be0e",
   "metadata": {},
   "outputs": [],
   "source": [
    "# Saída esperada:\n",
    "\n",
    "# U = [[6, -9, -9], [0.0, 12.0, 4.0], [0.0, 0.0, -0.3333333333333335]]\n",
    "# b = [-3, 12.0, -5.0]\n",
    "# x = [15.999999999999995, -3.999999999999998, 14.999999999999993]"
   ]
  },
  {
   "cell_type": "code",
   "execution_count": 8,
   "id": "f26a9d44",
   "metadata": {},
   "outputs": [
    {
     "name": "stdout",
     "output_type": "stream",
     "text": [
      "U = [[2, -1, 1], [0.0, 2.5, -1.5], [0.0, 0.0, 1.4]]\n",
      "b = [3, 0.5, 4.2]\n",
      "x = [1.0, 2.0000000000000004, 3.0000000000000004]\n"
     ]
    }
   ],
   "source": [
    "U,b = eliminationGaussPivPartial(A2,b2)\n",
    "print(\"U =\",U)\n",
    "print(\"b =\",b)\n",
    "\n",
    "x = solveUpperTriangularMatrix(U,b)\n",
    "print(\"x =\", x)"
   ]
  },
  {
   "cell_type": "code",
   "execution_count": 9,
   "id": "d76c47ac",
   "metadata": {},
   "outputs": [],
   "source": [
    "# Saída esperada:\n",
    "\n",
    "# U = [[2, -1, 1], [0.0, 2.5, -1.5], [0.0, 0.0, 1.4]]\n",
    "# b = [3, 0.5, 4.2]\n",
    "# x = [1.0, 2.0000000000000004, 3.0000000000000004]"
   ]
  },
  {
   "cell_type": "code",
   "execution_count": 22,
   "id": "ddc616c7",
   "metadata": {},
   "outputs": [
    {
     "name": "stdout",
     "output_type": "stream",
     "text": [
      "U = [[10, 2, 2, 3, 4, 5, 6, 7, 8, 9], [0.0, 8.2, -0.8, -0.7000000000000002, -0.6000000000000001, -0.5, -0.40000000000000036, -0.2999999999999998, -0.20000000000000018, -0.09999999999999964], [0.0, 0.0, 9.121951219512196, -0.7682926829268294, -0.6585365853658537, -0.548780487804878, -0.4390243902439028, -0.32926829268292745, -0.2195121951219514, -0.1097560975609761], [0.0, 0.0, 0.0, 9.15775401069519, -0.7219251336898395, -0.6016042780748665, -0.48128342245989175, -0.36096256684491884, -0.24064171122994588, -0.12032085561497291], [0.0, 0.0, 0.0, 0.0, 9.211678832116787, -0.6569343065693429, -0.5255474452554749, -0.3941605839416065, -0.26277372262773746, -0.1313868613138683], [0.0, 0.0, 0.0, 0.0, 0.0, 9.286846275752774, -0.5705229793977815, -0.42789223454833575, -0.28526148969889076, -0.14263074484944577], [0.0, 8.881784197001252e-16, 0.0, 0.0, 0.0, 0.0, 9.385665529010238, -0.4607508532423212, -0.30716723549488073, -0.1535836177474404], [0.0, 0.0, 8.881784197001252e-16, 0.0, 8.881784197001252e-16, -8.881784197001252e-16, 0.0, 9.50909090909091, -0.3272727272727269, -0.16363636363636333], [0.0, 0.0, 0.0, 0.0, 0.0, 0.0, 0.0, 0.0, 9.655831739961762, 0.8279158699808793], [0.0, 0.0, 0.0, 0.0, 0.0, 0.0, 0.0, 0.0, 0.0, 8.857425742574256]]\n",
      "b = [56, 6.600000000000001, 7.243902439024384, 7.941176470588245, 8.671532846715321, 9.413629160063392, 10.136518771331053, 10.800000000000015, 11.357552581261945, 1.762376237623771]\n",
      "x = [1.0480661748267373, 1.3100827185334232, 1.17907444668008, 1.179074446680081, 1.1790744466800802, 1.1790744466800807, 1.1790744466800802, 1.179074446680082, 1.1591772859378484, 0.19897160742231268]\n"
     ]
    }
   ],
   "source": [
    "U,b = eliminationGaussPivPartial(A3,b3)\n",
    "print(\"U =\",U)\n",
    "print(\"b =\",b)\n",
    "\n",
    "x = solveUpperTriangularMatrix(U,b)\n",
    "print(\"x =\", x)"
   ]
  },
  {
   "cell_type": "code",
   "execution_count": 23,
   "id": "f72bf8b2",
   "metadata": {},
   "outputs": [],
   "source": [
    "# Saída esperada:\n",
    "\n",
    "# U = [[10, 2, 2, 3, 4, 5, 6, 7, 8, 9], [0.0, 8.2, -0.8, -0.7000000000000002, -0.6000000000000001, -0.5, -0.40000000000000036, -0.2999999999999998, -0.20000000000000018, -0.09999999999999964], [0.0, 0.0, 9.121951219512196, -0.7682926829268294, -0.6585365853658537, -0.548780487804878, -0.4390243902439028, -0.32926829268292745, -0.2195121951219514, -0.1097560975609761], [0.0, 0.0, 0.0, 9.15775401069519, -0.7219251336898395, -0.6016042780748665, -0.48128342245989175, -0.36096256684491884, -0.24064171122994588, -0.12032085561497291], [0.0, 0.0, 0.0, 0.0, 9.211678832116787, -0.6569343065693429, -0.5255474452554749, -0.3941605839416065, -0.26277372262773746, -0.1313868613138683], [0.0, 0.0, 0.0, 0.0, 0.0, 9.286846275752774, -0.5705229793977815, -0.42789223454833575, -0.28526148969889076, -0.14263074484944577], [0.0, 8.881784197001252e-16, 0.0, 0.0, 0.0, 0.0, 9.385665529010238, -0.4607508532423212, -0.30716723549488073, -0.1535836177474404], [0.0, 0.0, 8.881784197001252e-16, 0.0, 8.881784197001252e-16, -8.881784197001252e-16, 0.0, 9.50909090909091, -0.3272727272727269, -0.16363636363636333], [0.0, 0.0, 0.0, 0.0, 0.0, 0.0, 0.0, 0.0, 9.655831739961762, 0.8279158699808793], [0.0, 0.0, 0.0, 0.0, 0.0, 0.0, 0.0, 0.0, 0.0, 8.857425742574256]]\n",
    "# b = [56, 6.600000000000001, 7.243902439024384, 7.941176470588245, 8.671532846715321, 9.413629160063392, 10.136518771331053, 10.800000000000015, 11.357552581261945, 1.762376237623771]\n",
    "# x = [1.0480661748267373, 1.3100827185334232, 1.17907444668008, 1.179074446680081, 1.1790744466800802, 1.1790744466800807, 1.1790744466800802, 1.179074446680082, 1.1591772859378484, 0.19897160742231268]"
   ]
  },
  {
   "cell_type": "code",
   "execution_count": 10,
   "id": "7af74161",
   "metadata": {},
   "outputs": [
    {
     "name": "stdout",
     "output_type": "stream",
     "text": [
      "U = [[-0.3333333333333335, 0.0, 0.0], [0.0, 6.0, -9.0], [0.0, 0.0, 12.0]]\n",
      "b = [-5.0, 131.99999999999994, -47.99999999999997]\n",
      "x = [14.999999999999993, 15.999999999999995, -3.999999999999998]\n"
     ]
    }
   ],
   "source": [
    "U,b = eliminationGaussPivTotal(A1,b1)\n",
    "print(\"U =\",U)\n",
    "print(\"b =\",b)\n",
    "\n",
    "x = solveUpperTriangularMatrix(U,b)\n",
    "print(\"x =\", x)"
   ]
  },
  {
   "cell_type": "code",
   "execution_count": null,
   "id": "05b90445",
   "metadata": {},
   "outputs": [],
   "source": [
    "# Saída esperada:\n",
    "\n",
    "# U = [[-0.3333333333333335, 0.0, 0.0], [0.0, 6.0, -9.0], [0.0, 0.0, 12.0]]\n",
    "# b = [-5.0, 131.99999999999994, -47.99999999999997]\n",
    "# x = [14.999999999999993, 15.999999999999995, -3.999999999999998]"
   ]
  },
  {
   "cell_type": "code",
   "execution_count": 12,
   "id": "f59698c7",
   "metadata": {},
   "outputs": [
    {
     "name": "stdout",
     "output_type": "stream",
     "text": [
      "U = [[1.4, 0.0, 0.0], [0.0, 2.0, -1.0], [-2.220446049250313e-16, 0.0, 2.5]]\n",
      "b = [4.2, 0.0, 5.0]\n",
      "x = [3.0000000000000004, 1.0, 2.0]\n"
     ]
    }
   ],
   "source": [
    "U,b = eliminationGaussPivTotal(A2,b2)\n",
    "print(\"U =\",U)\n",
    "print(\"b =\",b)\n",
    "\n",
    "x = solveUpperTriangularMatrix(U,b)\n",
    "print(\"x =\", x)"
   ]
  },
  {
   "cell_type": "code",
   "execution_count": null,
   "id": "765fd183",
   "metadata": {},
   "outputs": [],
   "source": [
    "# Saída esperada:\n",
    "\n",
    "# U = [[1.4, 0.0, 0.0], [0.0, 2.0, -1.0], [-2.220446049250313e-16, 0.0, 2.5]]\n",
    "# b = [4.2, 0.0, 5.0]\n",
    "# x = [3.0000000000000004, 1.0, 2.0]"
   ]
  },
  {
   "cell_type": "code",
   "execution_count": 24,
   "id": "62742c1e",
   "metadata": {},
   "outputs": [
    {
     "name": "stdout",
     "output_type": "stream",
     "text": [
      "U = [[8.857425742574256, 0.0, 0.0, 0.0, 0.0, 0.0, 0.0, 0.0, 0.0, 0.0], [-1.7763568394002505e-15, 10.0, 2.0, 2.0, 3.0, 4.0, 5.0, 6.0, 7.0, 8.0], [0.0, 0.0, 8.2, -0.8, -0.7000000000000002, -0.6000000000000001, -0.5, -0.40000000000000036, -0.2999999999999998, -0.20000000000000018], [0.0, 0.0, 0.0, 9.121951219512196, -0.7682926829268294, -0.6585365853658537, -0.548780487804878, -0.4390243902439028, -0.32926829268292745, -0.2195121951219514], [0.0, 0.0, 0.0, 0.0, 9.15775401069519, -0.7219251336898395, -0.6016042780748665, -0.48128342245989175, -0.36096256684491884, -0.24064171122994588], [0.0, 0.0, 0.0, 0.0, 0.0, 9.211678832116787, -0.6569343065693429, -0.5255474452554749, -0.3941605839416065, -0.26277372262773746], [0.0, 0.0, 0.0, 0.0, 0.0, 0.0, 9.286846275752774, -0.5705229793977815, -0.42789223454833575, -0.28526148969889076], [0.0, 0.0, 0.0, 0.0, 0.0, -1.232595164407831e-32, 0.0, 9.385665529010238, -0.4607508532423211, -0.30716723549488073], [0.0, 0.0, 0.0, 0.0, 0.0, 0.0, 0.0, 0.0, 9.50909090909091, -0.3272727272727269], [0.0, 0.0, 0.0, 0.0, 0.0, 0.0, 0.0, 0.0, 0.0, 9.655831739961762]]\n",
      "b = [1.762376237623771, 54.20925553319918, 6.619897160742233, 7.2657407861804915, 7.9651169046363846, 8.697675101705114, 9.442008628633928, 10.167077550627996, 10.832558990305483, 11.192820829801407]\n",
      "x = [0.19897160742231268, 1.0480661748267373, 1.3100827185334232, 1.17907444668008, 1.1790744466800809, 1.1790744466800802, 1.1790744466800807, 1.1790744466800802, 1.1790744466800818, 1.1591772859378484]\n"
     ]
    }
   ],
   "source": [
    "U,b = eliminationGaussPivTotal(A3,b3)\n",
    "print(\"U =\",U)\n",
    "print(\"b =\",b)\n",
    "\n",
    "x = solveUpperTriangularMatrix(U,b)\n",
    "print(\"x =\", x)"
   ]
  },
  {
   "cell_type": "code",
   "execution_count": null,
   "id": "59f669ca",
   "metadata": {},
   "outputs": [],
   "source": [
    "# Saída esperada:\n",
    "\n",
    "# U = [[8.857425742574256, 0.0, 0.0, 0.0, 0.0, 0.0, 0.0, 0.0, 0.0, 0.0], [-1.7763568394002505e-15, 10.0, 2.0, 2.0, 3.0, 4.0, 5.0, 6.0, 7.0, 8.0], [0.0, 0.0, 8.2, -0.8, -0.7000000000000002, -0.6000000000000001, -0.5, -0.40000000000000036, -0.2999999999999998, -0.20000000000000018], [0.0, 0.0, 0.0, 9.121951219512196, -0.7682926829268294, -0.6585365853658537, -0.548780487804878, -0.4390243902439028, -0.32926829268292745, -0.2195121951219514], [0.0, 0.0, 0.0, 0.0, 9.15775401069519, -0.7219251336898395, -0.6016042780748665, -0.48128342245989175, -0.36096256684491884, -0.24064171122994588], [0.0, 0.0, 0.0, 0.0, 0.0, 9.211678832116787, -0.6569343065693429, -0.5255474452554749, -0.3941605839416065, -0.26277372262773746], [0.0, 0.0, 0.0, 0.0, 0.0, 0.0, 9.286846275752774, -0.5705229793977815, -0.42789223454833575, -0.28526148969889076], [0.0, 0.0, 0.0, 0.0, 0.0, -1.232595164407831e-32, 0.0, 9.385665529010238, -0.4607508532423211, -0.30716723549488073], [0.0, 0.0, 0.0, 0.0, 0.0, 0.0, 0.0, 0.0, 9.50909090909091, -0.3272727272727269], [0.0, 0.0, 0.0, 0.0, 0.0, 0.0, 0.0, 0.0, 0.0, 9.655831739961762]]\n",
    "# b = [1.762376237623771, 54.20925553319918, 6.619897160742233, 7.2657407861804915, 7.9651169046363846, 8.697675101705114, 9.442008628633928, 10.167077550627996, 10.832558990305483, 11.192820829801407]\n",
    "# x = [0.19897160742231268, 1.0480661748267373, 1.3100827185334232, 1.17907444668008, 1.1790744466800809, 1.1790744466800802, 1.1790744466800807, 1.1790744466800802, 1.1790744466800818, 1.1591772859378484]"
   ]
  },
  {
   "cell_type": "code",
   "execution_count": null,
   "id": "c6e0d129",
   "metadata": {},
   "outputs": [],
   "source": []
  }
 ],
 "metadata": {
  "kernelspec": {
   "display_name": "Python 3 (ipykernel)",
   "language": "python",
   "name": "python3"
  },
  "language_info": {
   "codemirror_mode": {
    "name": "ipython",
    "version": 3
   },
   "file_extension": ".py",
   "mimetype": "text/x-python",
   "name": "python",
   "nbconvert_exporter": "python",
   "pygments_lexer": "ipython3",
   "version": "3.8.13"
  }
 },
 "nbformat": 4,
 "nbformat_minor": 5
}

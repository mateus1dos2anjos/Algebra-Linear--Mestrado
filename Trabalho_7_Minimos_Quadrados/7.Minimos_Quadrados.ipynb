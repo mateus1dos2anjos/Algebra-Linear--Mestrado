{
 "cells": [
  {
   "cell_type": "markdown",
   "id": "61e7ebcc",
   "metadata": {},
   "source": [
    "# Álgebra Linear Computacional - CKP8122 - MDCC - UFC\n",
    "# Método dos Mínimos Quadrados\n",
    "### Francisco Mateus dos Anjos Silva"
   ]
  },
  {
   "cell_type": "code",
   "execution_count": 1,
   "id": "b71aa741",
   "metadata": {},
   "outputs": [],
   "source": [
    "# Considere uma matriz A mxn com m > n e um vetor b pertencente ao Rm. \n",
    "# Encontre uma solução aproximada x* para o problema Ax = b que minimize a norma quadrada do vetor Ax* - b.\n",
    "# Aplique este tipo de solução ao problema de regressão linear."
   ]
  },
  {
   "cell_type": "markdown",
   "id": "9e0574d5",
   "metadata": {},
   "source": [
    "Sistemas lineares aparecem como modelos matemáticos de vários fenômenos e em várias situações. \n",
    "Acontece que alguns sistemas simplesmente não possuem soluções e ﬁcamos sem saber como proceder. \n",
    "O método dos **mínimos quadrados** é uma técnica que nos permite, de forma aproximada, retirar \n",
    "alguma informação desses sistemas impossíveis. A terminologia se deve ao fato de que, como \n",
    "veremos, este método minimiza a soma dos quadrados dos erros obtidos na aproximação.\n",
    "\n",
    "Uma vez que temos a matriz A e o vetor b, podemos calcular os termos da fórmula At.A.x_ = At.b e encontrar At.A e At.b para, a partir daí, calcular o valor de x_ (x aproximado) resolvendo o sistema At.A.x_ = At.b.\n",
    "\n",
    "**Referências:**\n",
    "- https://www.ufrgs.br/reamat/AlgebraLinear/livro/s14-mx00e9todo_dos_mx00ednimos_quadrados.html\n",
    "\n"
   ]
  },
  {
   "cell_type": "code",
   "execution_count": 2,
   "id": "2441a297",
   "metadata": {},
   "outputs": [],
   "source": [
    "import numpy as np"
   ]
  },
  {
   "cell_type": "code",
   "execution_count": 4,
   "id": "ebc7cf86",
   "metadata": {},
   "outputs": [],
   "source": [
    "def minimos_quadrados(A, b, At):\n",
    "    # Aplicar fórmula: At*A*x_ = At*b\n",
    "    AtA = np.dot(At, A)\n",
    "    Atb = np.dot(At, b)\n",
    "    \n",
    "    # Resolver o sistema At*A*x_ = At*b\n",
    "    x_ = np.linalg.solve(AtA, Atb)\n",
    "    \n",
    "    return x_"
   ]
  },
  {
   "cell_type": "code",
   "execution_count": 6,
   "id": "5b202fe9",
   "metadata": {},
   "outputs": [],
   "source": [
    "A = np.array([[-1, 1],\n",
    "              [ 0, 1],\n",
    "              [ 1, 1],\n",
    "              [ 2, 1]])\n",
    "\n",
    "b = np.array([0, 1, 2, 1])\n",
    "\n",
    "# Transposta de A\n",
    "At = np.transpose(A) "
   ]
  },
  {
   "cell_type": "code",
   "execution_count": 7,
   "id": "969311ac",
   "metadata": {},
   "outputs": [
    {
     "name": "stdout",
     "output_type": "stream",
     "text": [
      "x_0= 0.39999999999999997\n",
      "x_1= 0.8\n"
     ]
    }
   ],
   "source": [
    "x_ = minimos_quadrados(A, b, At)\n",
    "for i in range(len(x_)):\n",
    "    print(\"x_\"+str(i)+\"=\", x_[i])"
   ]
  },
  {
   "cell_type": "code",
   "execution_count": 8,
   "id": "925b6f9e",
   "metadata": {},
   "outputs": [],
   "source": [
    "Ai = np.array([[ 1, 1, -2],\n",
    "               [ 1, 0, -2],\n",
    "               [ 0, 1,  2],\n",
    "               [-1,-1,  2]])\n",
    "\n",
    "bi = np.array([3, 2, 0, 0])\n",
    "\n",
    "# Transposta de A\n",
    "Ati = np.transpose(Ai) "
   ]
  },
  {
   "cell_type": "code",
   "execution_count": 9,
   "id": "15d6f424",
   "metadata": {},
   "outputs": [
    {
     "name": "stdout",
     "output_type": "stream",
     "text": [
      "x_0= 2.4999999999999987\n",
      "x_1= -0.49999999999999933\n",
      "x_2= 0.24999999999999967\n"
     ]
    }
   ],
   "source": [
    "x_i = minimos_quadrados(Ai, bi, Ati)\n",
    "for i in range(len(x_i)):\n",
    "    print(\"x_\"+str(i)+\"=\", x_i[i])"
   ]
  },
  {
   "cell_type": "code",
   "execution_count": null,
   "id": "e6ce2c30",
   "metadata": {},
   "outputs": [],
   "source": []
  }
 ],
 "metadata": {
  "kernelspec": {
   "display_name": "Python 3 (ipykernel)",
   "language": "python",
   "name": "python3"
  },
  "language_info": {
   "codemirror_mode": {
    "name": "ipython",
    "version": 3
   },
   "file_extension": ".py",
   "mimetype": "text/x-python",
   "name": "python",
   "nbconvert_exporter": "python",
   "pygments_lexer": "ipython3",
   "version": "3.8.13"
  }
 },
 "nbformat": 4,
 "nbformat_minor": 5
}

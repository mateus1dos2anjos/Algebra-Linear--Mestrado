{
 "cells": [
  {
   "cell_type": "markdown",
   "id": "61e7ebcc",
   "metadata": {},
   "source": [
    "# Álgebra Linear Computacional - CKP8122 - MDCC - UFC\n",
    "### Francisco Mateus dos Anjos Silva\n",
    "# Decomposição QR"
   ]
  },
  {
   "cell_type": "code",
   "execution_count": 1,
   "id": "b71aa741",
   "metadata": {},
   "outputs": [],
   "source": [
    "# Implementar a decomposição QR de uma matriz nxn.\n",
    "\n",
    "# 1) Entrar com uma matriz qualquer, A nxn\n",
    "# 2) Encontrar as matrizes Q (ortogonal) e R (triangular superior) tal que A = Q R\n",
    "# 3) imprimir as matrizes Q e R e mostrar que o produto QR = A."
   ]
  },
  {
   "cell_type": "markdown",
   "id": "9e0574d5",
   "metadata": {},
   "source": [
    "Em álgebra linear, uma **decomposição QR** (também chamada de fatoração QR) de uma matriz é uma decomposição de uma matriz A em um produto A = QR de uma matriz ortogonal Q e uma matriz triangular superior R. A decomposição QR é usado frequentemente para resolver o problema de mínimos quadrados linear e é a base para um determinado algoritmo de autovalores, o algoritmo QR.\n",
    "\n",
    "Matriz quadrada\n",
    "Toda matriz quadrada A com entradas reais pode ser decomposta como\n",
    "\n",
    "${\\displaystyle A=QR,}$\n",
    "\n",
    "em que Q é uma matriz ortogonal (suas colunas são vetores unitários ortogonais, isto é ${\\displaystyle Q^{\\textsf {T}}Q=QQ^{\\textsf {T}}=I})$ e R é uma matriz triangular superior (também chamada de matriz triangular à direita). Se A é invertível, então a fatoração é única, se for exigido que os elementos da diagonal de R sejam positivos.\n",
    "\n",
    "Se em vez disso A for uma matriz quadrada complexa, então há uma decomposição A = QR, em que Q é uma matriz unitária (então ${\\displaystyle Q^{*}Q=QQ^{*}=I}$).\n",
    "\n",
    "Se A tem n colunas linearmente independentes então as primeiras n colunas de Q formam uma base ortonormal para o espaço coluna de A. Mais geralmente, as primeiras k colunas de Q formam uma base ortonormal para o espaço gerado pelas primeiras k colunas de A para qualquer 1 ≤ k ≤ n. O fato de qualquer coluna k de A só depender das primeiras k colunas de Q é responsável pela forma triangular de R.\n",
    "\n",
    "Existem vários métodos para calcular a decomposição QR, tais como o uso do processo de Gram–Schmidt, transformações Householder, ou rotações de Givens. Cada um tem suas vantagens e desvantagens. Mas vamos abordar apenas o método de decomposição QR que utiliza a transformação de Householder.\n",
    "\n",
    "Uma **transformaçao de Householder** (ou reflexão de Householder) é uma transformação que pega um vetor e reflete-o em relação a algum plano ou hiperplano. Pode-se utilizar esta operação para calcular a fatoração QR de uma matriz ${\\displaystyle A}$ de ordem m-por-n com m ≥ n.\n",
    "\n",
    "Q pode ser utilizada para refletir um vetor de tal forma que todas as coordenadas exceto uma desapareçam.\n",
    "\n",
    "Seja ${\\displaystyle \\mathbf {x} }$ ser um vetor coluna real arbitrário de ${\\displaystyle A}$ de dimensão m, tal que ${\\displaystyle \\|\\mathbf {x} \\|=|\\alpha |}$ para algum escalar α. Se o algoritmo é implementado usando a aritmética de ponto flutuante, então α deve receber o sinal contrário ao da k-ésima coordenada de ${\\displaystyle \\mathbf {x} ,}$ onde ${\\displaystyle x_{k}}$ deve ser a coordenada pivô a partir da qual todas as entradas são 0 na forma triangular superior final de ${\\displaystyle A}$, para evitar a perda de significância. No caso complexo, define-se\n",
    "\n",
    "${\\displaystyle \\alpha =-e^{i\\arg x_{k}}\\|\\mathbf {x} \\|}$\n",
    "\n",
    "(Stoer & Bulirsch 2002, p. 225) e substitui-se a transposição, pela transposição seguida de conjugação para a construção de Q como abaixo.\n",
    "\n",
    "Então, sendo ${\\displaystyle \\mathbf {e}_{1}}$ o vetor (1 0 ... 0)T, ||·|| a norma Euclidiana e ${\\displaystyle I}$ uma matriz identidade de ordem m-por-m, define-se\n",
    "\n",
    "${\\displaystyle {\\begin{aligned}\\mathbf {u} &=\\mathbf {x} -\\alpha \\mathbf {e} _{1},\\\\\\mathbf {v} &={\\mathbf {u}  \\over \\|\\mathbf {u} \\|},\\\\Q&=I-2\\mathbf {v} \\mathbf {v} ^{\\textsf {T}}.\\end{aligned}}}$\n",
    "\n",
    "Ou, se ${\\displaystyle A}$ é complexo\n",
    "\n",
    "${\\displaystyle Q=I-2\\mathbf {v} \\mathbf {v} ^{*}}$. \n",
    "\n",
    "${\\displaystyle Q}$ é uma matriz de Householder de ordem m-por-m e\n",
    "\n",
    "${\\displaystyle Q\\mathbf {x} ={\\begin{pmatrix}\\alpha &0&\\cdots &0\\end{pmatrix}}^{\\textsf {T}}.}$\n",
    "\n",
    "Isso pode ser usado para transformar gradativamente uma matriz A de ordem m-por-n em uma matriz na forma triangular superior. Primeiramente, multiplica-se A pela matriz de Householder $Q_1$ que é obtida ao escolher a primeira matriz coluna para x. Isso resulta em uma matriz $Q_1 A$ com zeros na coluna da esquerda (exceto na primeira linha).\n",
    "\n",
    "${\\displaystyle Q_{1}A={\\begin{bmatrix}\\alpha _{1}&\\star &\\dots &\\star \\\\0&&&\\\\\\vdots &&A'&\\\\0&&&\\end{bmatrix}}}$\n",
    "\n",
    "Este processo pode ser repetido para A' (obtida a partir de $Q_1 A$ ao excluir a primeira linha e a primeira coluna), resultando em uma matriz de Householder $Q'_2$. Note que $Q'_2$ é menor do que $Q_1$. Como a intenção é fazer com que ela atue em $Q_1 A$ em vez de A' é preciso expandi-la para o canto superior esquerdo, preenchendo-a com 1, ou em geral:\n",
    "\n",
    "${\\displaystyle Q_{k}={\\begin{pmatrix}I_{k-1}&0\\\\0&Q_{k}'\\end{pmatrix}}.}$\n",
    "Depois de ${\\displaystyle t}$ iterações do processo, ${\\displaystyle t=\\min(m-1,n),}$\n",
    "\n",
    "${\\displaystyle R=Q_{t}\\cdots Q_{2}Q_{1}A}$ é uma matriz triangular superior. Assim, com\n",
    "\n",
    "${\\displaystyle Q=Q_{1}^{\\textsf {T}}Q_{2}^{\\textsf {T}}\\cdots Q_{t}^{\\textsf {T}},}$ \n",
    "${\\displaystyle A=QR}{\\displaystyle A=QR}$ é uma decomposição QR de ${\\displaystyle A.}$\n",
    "\n",
    "\n",
    "**Referências:**\n",
    "\n",
    "- https://pt.wikipedia.org/wiki/Decomposi%C3%A7%C3%A3o_QR"
   ]
  },
  {
   "cell_type": "code",
   "execution_count": 2,
   "id": "2441a297",
   "metadata": {},
   "outputs": [],
   "source": [
    "import numpy as np"
   ]
  },
  {
   "cell_type": "code",
   "execution_count": 3,
   "id": "0bbdce33",
   "metadata": {},
   "outputs": [],
   "source": [
    "def mount_householder_matrix_to_qr(A, j):\n",
    "    A = A.astype(np.float32)\n",
    "    n_A = len(A)\n",
    "    v = np.zeros(n_A)\n",
    "    w = np.zeros(n_A)\n",
    "    v[j:] = A[j:,j]\n",
    "    w[j] = np.linalg.norm(v)\n",
    "    n = np.array([(v - w) / np.linalg.norm(v - w)])\n",
    "    H = np.identity(n_A) - 2 * (n.T @ n)\n",
    "    H = np.around(H, decimals=5)\n",
    "    return H"
   ]
  },
  {
   "cell_type": "code",
   "execution_count": 4,
   "id": "794a1385",
   "metadata": {},
   "outputs": [],
   "source": [
    "def qr_decomposition(A):\n",
    "    n_A = len(A)\n",
    "    Q = np.identity(n_A)\n",
    "    R = A.copy()\n",
    "    \n",
    "    for j in range(0, n_A - 1):\n",
    "        Qj = mount_householder_matrix_to_qr(R, j)\n",
    "        R = Qj @ R\n",
    "        Q = Q @ Qj        \n",
    "    return Q, R"
   ]
  },
  {
   "cell_type": "markdown",
   "id": "5a8ef403",
   "metadata": {},
   "source": [
    "### Teste com Matriz Simétrica "
   ]
  },
  {
   "cell_type": "code",
   "execution_count": 5,
   "id": "5ce06b6a",
   "metadata": {},
   "outputs": [],
   "source": [
    "# Matriz 3x3\n",
    "A = np.array([[ 12, -51,  4],\n",
    "               [  6, 167,-68],\n",
    "               [ -4,  24,-41]])\n",
    "\n",
    "Q, R = qr_decomposition(A)"
   ]
  },
  {
   "cell_type": "code",
   "execution_count": 6,
   "id": "632ceb47",
   "metadata": {},
   "outputs": [
    {
     "name": "stdout",
     "output_type": "stream",
     "text": [
      "Matriz Q (ortogonal):\n",
      " [[ 0.85714   -0.3942812  0.3314284]\n",
      " [ 0.42857    0.9028532 -0.0342824]\n",
      " [-0.28571    0.171428   0.942854 ]]\n",
      "\n",
      "Matriz R (triangular superior):\n",
      " [[ 1.39999400e+01  2.10000100e+01 -1.40000900e+01]\n",
      " [ 3.28000000e-05  1.74999098e+02 -6.99996904e+01]\n",
      " [ 3.04000000e-05  4.86800000e-04 -3.50000972e+01]]\n",
      "\n",
      "Matriz A:\n",
      " [[ 12 -51   4]\n",
      " [  6 167 -68]\n",
      " [ -4  24 -41]]\n",
      "\n",
      "Matriz produto QR = A:\n",
      " [[ 11.99990571 -50.99874429   3.99949857]\n",
      " [  5.99998286 166.99845286 -67.99957572]\n",
      " [ -3.99988857  24.00029143 -40.99992286]]\n"
     ]
    }
   ],
   "source": [
    "print(\"Matriz Q (ortogonal):\\n\", Q)\n",
    "print(\"\\nMatriz R (triangular superior):\\n\", R)\n",
    "print(\"\\nMatriz A:\\n\", A)\n",
    "print(\"\\nMatriz produto QR = A:\\n\", Q @ R)"
   ]
  },
  {
   "cell_type": "code",
   "execution_count": 7,
   "id": "0d70c9ed",
   "metadata": {},
   "outputs": [],
   "source": [
    "# Matriz 7x7\n",
    "A = np.array([[ 3,-2, 1, 1,-2, 0, 2],\n",
    "              [-2, 3, 0, 2, 1, 0, 0],\n",
    "              [ 1, 0, 2, 0, 2, 1, 1],\n",
    "              [ 1, 2, 0, 3, 0, 0, 2],\n",
    "              [-2, 1, 2, 0, 3, 1, 0],\n",
    "              [ 0, 0, 1, 0, 1, 1,-1],\n",
    "              [ 2, 0, 1, 2, 0,-1, 1]])\n",
    "\n",
    "Q, R = qr_decomposition(A)"
   ]
  },
  {
   "cell_type": "code",
   "execution_count": 8,
   "id": "e7a48f83",
   "metadata": {
    "scrolled": true
   },
   "outputs": [
    {
     "name": "stdout",
     "output_type": "stream",
     "text": [
      "Matriz Q (ortogonal):\n",
      " [[ 6.25540000e-01 -1.26899708e-01  2.06721889e-01  5.12690093e-01\n",
      "  -5.04513322e-01  1.09364439e-01  1.43217656e-01]\n",
      " [-4.17030000e-01  5.71037875e-01 -2.08203878e-06  2.53641112e-01\n",
      "  -5.34974253e-01 -3.14357373e-01 -2.25049860e-01]\n",
      " [ 2.08510000e-01  1.52281063e-01  5.58151760e-01 -7.03989976e-01\n",
      "  -2.73059129e-01 -1.91211496e-01  1.22752327e-01]\n",
      " [ 2.08510000e-01  7.36011063e-01 -1.44703671e-01 -4.60742303e-02\n",
      "   1.66983175e-01  5.19313178e-01  3.06884872e-01]\n",
      " [-4.17030000e-01 -1.26821254e-02  7.02862063e-01  3.56600924e-01\n",
      "   2.61921774e-01  1.23164489e-01  3.47810187e-01]\n",
      " [ 0.00000000e+00  0.00000000e+00  3.10090000e-01 -3.41506703e-02\n",
      "  -9.97216917e-03  5.46017027e-01 -7.77451100e-01]\n",
      " [ 4.17030000e-01  3.04552125e-01  1.86050754e-01  2.16246490e-01\n",
      "   5.36754442e-01 -5.19292446e-01 -3.06887457e-01]]\n",
      "\n",
      "Matriz R (triangular superior):\n",
      " [[ 4.79582000e+00 -2.50218000e+00  6.25530000e-01  1.25107000e+00\n",
      "  -2.50218000e+00 -6.25550000e-01  2.29364000e+00]\n",
      " [-1.42474000e-05  3.42625304e+00  4.56850292e-01  3.83231348e+00\n",
      "   1.09135304e+00 -1.64953188e-01  1.67505590e+00]\n",
      " [-4.69804067e-06  4.69545842e-06  3.22489029e+00  1.44708219e-01\n",
      "   3.12153385e+00  1.38505307e+00  5.58148949e-01]\n",
      " [ 1.49801706e-05 -4.38622779e-06  7.80792620e-06  1.31424261e+00\n",
      "  -1.14406692e+00 -5.97786212e-01  4.79638909e-01]\n",
      " [-2.07862268e-06 -7.99268477e-06 -5.75873346e-06 -3.42195216e-06\n",
      "   7.03727287e-01 -5.57863965e-01 -4.01392813e-01]\n",
      " [-4.12601193e-06 -1.01495889e-05 -4.99410996e-06  4.33756051e-06\n",
      "   1.25143944e-06  9.97262465e-01  8.34265442e-04]\n",
      " [-5.40279751e-06 -4.96014990e-06  4.12615041e-06 -2.36317230e-06\n",
      "  -1.05627329e-06 -1.12903583e-06  1.49352102e+00]]\n",
      "\n",
      "Matriz A:\n",
      " [[ 3 -2  1  1 -2  0  2]\n",
      " [-2  3  0  2  1  0  0]\n",
      " [ 1  0  2  0  2  1  1]\n",
      " [ 1  2  0  3  0  0  2]\n",
      " [-2  1  2  0  3  1  0]\n",
      " [ 0  0  1  0  1  1 -1]\n",
      " [ 2  0  1  2  0 -1  1]]\n",
      "\n",
      "Matriz produto QR = A:\n",
      " [[ 2.99998558e+00 -2.00000326e+00  9.99982234e-01  9.99990247e-01\n",
      "  -2.00000827e+00 -1.76262262e-05  1.99998502e+00]\n",
      " [-2.00000153e+00  3.00001185e+00  1.30318099e-05  2.00000908e+00\n",
      "   1.00002300e+00 -1.14080883e-06  1.45198239e-05]\n",
      " [ 9.99961784e-01  3.31252641e-05  1.99997463e+00  4.71712670e-06\n",
      "   2.00000458e+00  9.99994292e-01  9.99974635e-01]\n",
      " [ 9.99961784e-01  2.00002198e+00  2.00158522e-05  2.99999415e+00\n",
      "   4.38964234e-05  1.67720213e-05  1.99998776e+00]\n",
      " [-2.00000153e+00  1.00002862e+00  1.99999653e+00  3.32577445e-05\n",
      "   2.99999713e+00  1.00000543e+00  1.25023628e-05]\n",
      " [-1.31821284e-10 -6.26338272e-11  1.00000009e+00 -5.45460614e-06\n",
      "   1.00001090e+00  9.99992184e-01 -9.99984866e-01]\n",
      " [ 2.00000153e+00 -9.05193626e-06  9.99992697e-01  1.99999300e+00\n",
      "  -1.85471840e-05 -9.99995442e-01  9.99997313e-01]]\n"
     ]
    }
   ],
   "source": [
    "print(\"Matriz Q (ortogonal):\\n\", Q)\n",
    "print(\"\\nMatriz R (triangular superior):\\n\", R)\n",
    "print(\"\\nMatriz A:\\n\", A)\n",
    "print(\"\\nMatriz produto QR = A:\\n\", Q @ R)"
   ]
  },
  {
   "cell_type": "markdown",
   "id": "e6374440",
   "metadata": {},
   "source": [
    "### Teste com Matriz Não Simétrica "
   ]
  },
  {
   "cell_type": "code",
   "execution_count": 9,
   "id": "bcbf4832",
   "metadata": {},
   "outputs": [],
   "source": [
    "# Matriz 7x7\n",
    "A = np.array([[3, -2, 1,-1, 2, 0, 2],\n",
    "              [1, 3, 0, 2, 1, 0, 0],\n",
    "              [5, 0, 2, 0, 2, 1, 1],\n",
    "              [1, 5, 0, 3, 0, 0, 2],\n",
    "              [2, 1, 3, 5, 3, 1, 0],\n",
    "              [3, 5, 1, 0, 2, 1, 1],\n",
    "              [2, 0, 5, 2,-3, 0, 1]])\n",
    "\n",
    "Q, R = qr_decomposition(A)"
   ]
  },
  {
   "cell_type": "code",
   "execution_count": 10,
   "id": "03a99814",
   "metadata": {},
   "outputs": [
    {
     "name": "stdout",
     "output_type": "stream",
     "text": [
      "Matriz Q (ortogonal):\n",
      " [[ 4.12080000e-01 -4.06679005e-01 -2.46266342e-01  4.86991875e-02\n",
      "   5.18435075e-02 -7.27535914e-01  2.64146289e-01]\n",
      " [ 1.37360000e-01  3.49297378e-01 -7.82003307e-02  2.38809059e-01\n",
      "  -1.43903597e-01 -3.74563738e-01 -7.96837879e-01]\n",
      " [ 6.86800000e-01 -2.37013010e-01 -2.65142745e-01  4.02076889e-02\n",
      "  -2.95996933e-01  5.39298481e-01 -1.47488091e-01]\n",
      " [ 1.37360000e-01  6.13767378e-01 -3.55708658e-02  2.55054428e-01\n",
      "  -5.21231801e-01 -8.86910492e-02  5.08478635e-01]\n",
      " [ 2.74720000e-01  3.74097716e-02  4.05291296e-01  6.98850576e-01\n",
      "   4.99646164e-01  1.12642496e-01  9.02490116e-02]\n",
      " [ 4.12080000e-01  5.18959488e-01 -9.70750106e-02 -5.18630224e-01\n",
      "   5.28389578e-01 -1.11243940e-04  5.72382358e-02]\n",
      " [ 2.74720000e-01 -9.48202284e-02  8.29450890e-01 -3.41411517e-01\n",
      "  -2.97438343e-01 -1.37778439e-01 -5.94309211e-02]]\n",
      "\n",
      "Matriz R (triangular superior):\n",
      " [[ 7.28008000e+00  2.60984000e+00  4.39552000e+00  2.19776000e+00\n",
      "   3.15928000e+00  1.37360000e+00  2.47248000e+00]\n",
      " [ 2.02451000e-05  7.56229425e+00 -7.23617363e-01  2.94398429e+00\n",
      "   4.96522326e-01  3.19356250e-01  6.01302997e-01]\n",
      " [-2.46092154e-05 -6.39278304e-06  4.48950149e+00  3.66851135e+00\n",
      "  -2.56764731e+00  4.30735405e-02 -9.64412822e-02]\n",
      " [-1.30595456e-05  3.96880032e-07 -2.15151862e-05  4.00551206e+00\n",
      "   2.50014864e+00  2.20428041e-01 -2.12326822e-01]\n",
      " [-5.16534009e-06  3.72414156e-05 -1.40049588e-05  8.02694686e-06\n",
      "   2.81582223e+00  7.32038809e-01 -1.00382228e+00]\n",
      " [ 2.42582238e-05  1.16443971e-05 -1.49019640e-05 -9.10634536e-06\n",
      "   1.71344560e-06  6.51829733e-01 -1.23104513e+00]\n",
      " [-9.94124821e-06  2.71518384e-05  7.72712244e-07 -2.92550281e-06\n",
      "  -5.21238521e-06 -8.43231013e-07  1.39556907e+00]]\n",
      "\n",
      "Matriz A:\n",
      " [[ 3 -2  1 -1  2  0  2]\n",
      " [ 1  3  0  2  1  0  0]\n",
      " [ 5  0  2  0  2  1  1]\n",
      " [ 1  5  0  3  0  0  2]\n",
      " [ 2  1  3  5  3  1  0]\n",
      " [ 3  5  1  0  2  1  1]\n",
      " [ 2  0  5  2 -3  0  1]]\n",
      "\n",
      "Matriz produto QR = A:\n",
      " [[ 2.99995202e+00 -1.99996121e+00  9.99982031e-01 -9.99963082e-01\n",
      "   2.00001069e+00  6.40560784e-06  1.99995462e+00]\n",
      " [ 9.99997245e-01  2.99994641e+00 -6.76782927e-05  1.99988866e+00\n",
      "   1.00003822e+00  5.71764791e-06  5.78650465e-06]\n",
      " [ 4.99997622e+00  6.89560968e-05  1.99998624e+00  2.53478070e-05\n",
      "   1.99995646e+00  9.99988826e-01  1.00001390e+00]\n",
      " [ 9.99997245e-01  4.99997082e+00 -5.60322976e-05  2.99993243e+00\n",
      "   1.64327619e-05  3.33107019e-06  1.99997946e+00]\n",
      " [ 1.99996449e+00  9.99899001e-01  2.99999913e+00  4.99997526e+00\n",
      "   2.99999190e+00  9.99990066e-01 -1.24406845e-05]\n",
      " [ 2.99999173e+00  5.00000887e+00  9.99963184e-01 -3.47921835e-05\n",
      "   2.00000363e+00  9.99993152e-01  1.00000022e+00]\n",
      " [ 1.99996449e+00 -1.02955873e-04  4.99998535e+00  1.99994046e+00\n",
      "  -3.00001327e+00  2.30708441e-07  9.99968291e-01]]\n"
     ]
    }
   ],
   "source": [
    "print(\"Matriz Q (ortogonal):\\n\", Q)\n",
    "print(\"\\nMatriz R (triangular superior):\\n\", R)\n",
    "print(\"\\nMatriz A:\\n\", A)\n",
    "print(\"\\nMatriz produto QR = A:\\n\", Q @ R)"
   ]
  }
 ],
 "metadata": {
  "kernelspec": {
   "display_name": "Python 3 (ipykernel)",
   "language": "python",
   "name": "python3"
  },
  "language_info": {
   "codemirror_mode": {
    "name": "ipython",
    "version": 3
   },
   "file_extension": ".py",
   "mimetype": "text/x-python",
   "name": "python",
   "nbconvert_exporter": "python",
   "pygments_lexer": "ipython3",
   "version": "3.8.13"
  }
 },
 "nbformat": 4,
 "nbformat_minor": 5
}

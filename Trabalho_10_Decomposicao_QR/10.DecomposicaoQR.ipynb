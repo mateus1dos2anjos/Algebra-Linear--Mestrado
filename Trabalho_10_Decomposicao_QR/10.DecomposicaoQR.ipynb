{
 "cells": [
  {
   "cell_type": "markdown",
   "id": "61e7ebcc",
   "metadata": {},
   "source": [
    "# Álgebra Linear Computacional - CKP8122 - MDCC - UFC\n",
    "### Francisco Mateus dos Anjos Silva\n",
    "# Decomposição QR"
   ]
  },
  {
   "cell_type": "code",
   "execution_count": 1,
   "id": "b71aa741",
   "metadata": {},
   "outputs": [],
   "source": [
    "# Implementar a decomposição QR de uma matriz nxn.\n",
    "\n",
    "# 1) Entrar com uma matriz qualquer, A nxn\n",
    "# 2) Encontrar as matrizes Q (ortogonal) e R (triangular superior) tal que A = Q R\n",
    "# 3) imprimir as matrizes Q e R e mostrar que o produto QR = A."
   ]
  },
  {
   "cell_type": "markdown",
   "id": "9e0574d5",
   "metadata": {},
   "source": [
    "Em álgebra linear, uma **decomposição QR** (também chamada de fatoração QR) de uma matriz é uma decomposição de uma matriz A em um produto A = QR de uma matriz ortogonal Q e uma matriz triangular superior R. A decomposição QR é usado frequentemente para resolver o problema de mínimos quadrados linear e é a base para um determinado algoritmo de autovalores, o algoritmo QR.\n",
    "\n",
    "Matriz quadrada\n",
    "Toda matriz quadrada A com entradas reais pode ser decomposta como\n",
    "\n",
    "${\\displaystyle A=QR,}$\n",
    "\n",
    "em que Q é uma matriz ortogonal (suas colunas são vetores unitários ortogonais, isto é ${\\displaystyle Q^{\\textsf {T}}Q=QQ^{\\textsf {T}}=I})$ e R é uma matriz triangular superior (também chamada de matriz triangular à direita). Se A é invertível, então a fatoração é única, se for exigido que os elementos da diagonal de R sejam positivos.\n",
    "\n",
    "Se em vez disso A for uma matriz quadrada complexa, então há uma decomposição A = QR, em que Q é uma matriz unitária (então ${\\displaystyle Q^{*}Q=QQ^{*}=I}$).\n",
    "\n",
    "Se A tem n colunas linearmente independentes então as primeiras n colunas de Q formam uma base ortonormal para o espaço coluna de A. Mais geralmente, as primeiras k colunas de Q formam uma base ortonormal para o espaço gerado pelas primeiras k colunas de A para qualquer 1 ≤ k ≤ n. O fato de qualquer coluna k de A só depender das primeiras k colunas de Q é responsável pela forma triangular de R.\n",
    "\n",
    "Existem vários métodos para calcular a decomposição QR, tais como o uso do processo de Gram–Schmidt, transformações Householder, ou rotações de Givens. Cada um tem suas vantagens e desvantagens. Mas vamos abordar apenas o método de decomposição QR que utiliza a transformação de Householder.\n",
    "\n",
    "Uma **transformação de Householder** (ou reflexão de Householder) é uma transformação que pega um vetor e reflete-o em relação a algum plano ou hiperplano. Pode-se utilizar esta operação para calcular a fatoração QR de uma matriz ${\\displaystyle A}$ de ordem m-por-n com m ≥ n.\n",
    "\n",
    "Q pode ser utilizada para refletir um vetor de tal forma que todas as coordenadas exceto uma desapareçam.\n",
    "\n",
    "Seja ${\\displaystyle \\mathbf {x} }$ ser um vetor coluna real arbitrário de ${\\displaystyle A}$ de dimensão m, tal que ${\\displaystyle \\|\\mathbf {x} \\|=|\\alpha |}$ para algum escalar α. Se o algoritmo é implementado usando a aritmética de ponto flutuante, então α deve receber o sinal contrário ao da k-ésima coordenada de ${\\displaystyle \\mathbf {x} ,}$ onde ${\\displaystyle x_{k}}$ deve ser a coordenada pivô a partir da qual todas as entradas são 0 na forma triangular superior final de ${\\displaystyle A}$, para evitar a perda de significância. No caso complexo, define-se\n",
    "\n",
    "${\\displaystyle \\alpha =-e^{i\\arg x_{k}}\\|\\mathbf {x} \\|}$\n",
    "\n",
    "(Stoer & Bulirsch 2002, p. 225) e substitui-se a transposição, pela transposição seguida de conjugação para a construção de Q como abaixo.\n",
    "\n",
    "Então, sendo ${\\displaystyle \\mathbf {e}_{1}}$ o vetor (1 0 ... 0)T, ||·|| a norma Euclidiana e ${\\displaystyle I}$ uma matriz identidade de ordem m-por-m, define-se\n",
    "\n",
    "${\\displaystyle {\\begin{aligned}\\mathbf {u} &=\\mathbf {x} -\\alpha \\mathbf {e} _{1},\\\\\\mathbf {v} &={\\mathbf {u}  \\over \\|\\mathbf {u} \\|},\\\\Q&=I-2\\mathbf {v} \\mathbf {v} ^{\\textsf {T}}.\\end{aligned}}}$\n",
    "\n",
    "Ou, se ${\\displaystyle A}$ é complexo\n",
    "\n",
    "${\\displaystyle Q=I-2\\mathbf {v} \\mathbf {v} ^{*}}$. \n",
    "\n",
    "${\\displaystyle Q}$ é uma matriz de Householder de ordem m-por-m e\n",
    "\n",
    "${\\displaystyle Q\\mathbf {x} ={\\begin{pmatrix}\\alpha &0&\\cdots &0\\end{pmatrix}}^{\\textsf {T}}.}$\n",
    "\n",
    "Isso pode ser usado para transformar gradativamente uma matriz A de ordem m-por-n em uma matriz na forma triangular superior. Primeiramente, multiplica-se A pela matriz de Householder $Q_1$ que é obtida ao escolher a primeira matriz coluna para x. Isso resulta em uma matriz $Q_1 A$ com zeros na coluna da esquerda (exceto na primeira linha).\n",
    "\n",
    "${\\displaystyle Q_{1}A={\\begin{bmatrix}\\alpha _{1}&\\star &\\dots &\\star \\\\0&&&\\\\\\vdots &&A'&\\\\0&&&\\end{bmatrix}}}$\n",
    "\n",
    "Este processo pode ser repetido para A' (obtida a partir de $Q_1 A$ ao excluir a primeira linha e a primeira coluna), resultando em uma matriz de Householder $Q'_2$. Note que $Q'_2$ é menor do que $Q_1$. Como a intenção é fazer com que ela atue em $Q_1 A$ em vez de A' é preciso expandi-la para o canto superior esquerdo, preenchendo-a com 1, ou em geral:\n",
    "\n",
    "${\\displaystyle Q_{k}={\\begin{pmatrix}I_{k-1}&0\\\\0&Q_{k}'\\end{pmatrix}}.}$\n",
    "\n",
    "Depois de ${\\displaystyle t}$ iterações do processo, ${\\displaystyle t=\\min(m-1,n),}$\n",
    "\n",
    "${\\displaystyle R=Q_{t}\\cdots Q_{2}Q_{1}A}$ é uma matriz triangular superior. Assim, com\n",
    "\n",
    "${\\displaystyle Q=Q_{1}^{\\textsf {T}}Q_{2}^{\\textsf {T}}\\cdots Q_{t}^{\\textsf {T}},}$ \n",
    "\n",
    "${\\displaystyle A=QR}$ é uma decomposição QR de ${\\displaystyle A.}$\n",
    "\n",
    "\n",
    "**Referências:**\n",
    "\n",
    "- https://pt.wikipedia.org/wiki/Decomposi%C3%A7%C3%A3o_QR"
   ]
  },
  {
   "cell_type": "code",
   "execution_count": 2,
   "id": "2441a297",
   "metadata": {},
   "outputs": [],
   "source": [
    "import numpy as np"
   ]
  },
  {
   "cell_type": "code",
   "execution_count": 3,
   "id": "0bbdce33",
   "metadata": {},
   "outputs": [],
   "source": [
    "def mount_householder_matrix_to_qr(A, j):\n",
    "    A = A.astype(np.float32)\n",
    "    n_A = len(A)\n",
    "    v = np.zeros(n_A)\n",
    "    w = np.zeros(n_A)\n",
    "    v[j:] = A[j:,j]\n",
    "    w[j] = np.linalg.norm(v)\n",
    "    \n",
    "    if v[j] > 0:\n",
    "        w[j] = -w[j]\n",
    "    n = np.array([(v - w) / np.linalg.norm(v - w)])\n",
    "    H = np.identity(n_A) - 2 * (n.T @ n)\n",
    "    H = np.around(H, decimals=5)\n",
    "    return H"
   ]
  },
  {
   "cell_type": "code",
   "execution_count": 4,
   "id": "794a1385",
   "metadata": {},
   "outputs": [],
   "source": [
    "def qr_decomposition(A):\n",
    "    n_A = len(A)\n",
    "    Q = np.identity(n_A)\n",
    "    R = A.copy()\n",
    "    \n",
    "    for j in range(0, n_A - 1):\n",
    "        Qj = mount_householder_matrix_to_qr(R, j)\n",
    "        R = Qj @ R\n",
    "        Q = Q @ Qj        \n",
    "    return Q, R"
   ]
  },
  {
   "cell_type": "markdown",
   "id": "5a8ef403",
   "metadata": {},
   "source": [
    "### Teste com Matriz Simétrica "
   ]
  },
  {
   "cell_type": "code",
   "execution_count": 5,
   "id": "5ce06b6a",
   "metadata": {},
   "outputs": [],
   "source": [
    "# Matriz 3x3\n",
    "A = np.array([[ 12, -51,  4],\n",
    "               [  6, 167,-68],\n",
    "               [ -4,  24,-41]])\n",
    "\n",
    "Q, R = qr_decomposition(A)"
   ]
  },
  {
   "cell_type": "code",
   "execution_count": 6,
   "id": "632ceb47",
   "metadata": {},
   "outputs": [
    {
     "name": "stdout",
     "output_type": "stream",
     "text": [
      "Matriz Q (ortogonal):\n",
      " [[-0.85714     0.3942862   0.33142558]\n",
      " [-0.42857    -0.9028613  -0.03429032]\n",
      " [ 0.28571    -0.17142508  0.94285729]]\n",
      "\n",
      "Matriz R (triangular superior):\n",
      " [[-1.39999400e+01 -2.10000100e+01  1.40000900e+01]\n",
      " [-3.31078000e-05 -1.75000635e+02  7.00001416e+01]\n",
      " [-6.40618000e-05 -6.12648300e-04 -3.49997050e+01]]\n",
      "\n",
      "Matriz A:\n",
      " [[ 12 -51   4]\n",
      " [  6 167 -68]\n",
      " [ -4  24 -41]]\n",
      "\n",
      "Matriz produto QR = A:\n",
      " [[ 11.99987429 -51.00058959   4.00025494]\n",
      " [  5.99998637 167.00129659 -68.00028653]\n",
      " [ -3.99997758  23.99900764 -40.99954114]]\n"
     ]
    }
   ],
   "source": [
    "print(\"Matriz Q (ortogonal):\\n\", Q)\n",
    "print(\"\\nMatriz R (triangular superior):\\n\", R)\n",
    "print(\"\\nMatriz A:\\n\", A)\n",
    "print(\"\\nMatriz produto QR = A:\\n\", Q @ R)"
   ]
  },
  {
   "cell_type": "code",
   "execution_count": 7,
   "id": "0d70c9ed",
   "metadata": {},
   "outputs": [],
   "source": [
    "# Matriz 7x7\n",
    "A = np.array([[ 3,-2, 1, 1,-2, 0, 2],\n",
    "              [-2, 3, 0, 2, 1, 0, 0],\n",
    "              [ 1, 0, 2, 0, 2, 1, 1],\n",
    "              [ 1, 2, 0, 3, 0, 0, 2],\n",
    "              [-2, 1, 2, 0, 3, 1, 0],\n",
    "              [ 0, 0, 1, 0, 1, 1,-1],\n",
    "              [ 2, 0, 1, 2, 0,-1, 1]])\n",
    "\n",
    "Q, R = qr_decomposition(A)"
   ]
  },
  {
   "cell_type": "code",
   "execution_count": 8,
   "id": "e7a48f83",
   "metadata": {
    "scrolled": true
   },
   "outputs": [
    {
     "name": "stdout",
     "output_type": "stream",
     "text": [
      "Matriz Q (ortogonal):\n",
      " [[-6.25540000e-01  1.26899710e-01 -2.06722067e-01  5.12690580e-01\n",
      "   5.04520701e-01 -1.09370482e-01 -1.43213549e-01]\n",
      " [ 4.17030000e-01 -5.71032988e-01  4.30629208e-06  2.53625944e-01\n",
      "   5.34994740e-01  3.14345742e-01  2.25050882e-01]\n",
      " [-2.08510000e-01 -1.52268121e-01 -5.58153720e-01 -7.03996865e-01\n",
      "   2.73061845e-01  1.91186963e-01 -1.22765941e-01]\n",
      " [-2.08510000e-01 -7.35998121e-01  1.44703270e-01 -4.60467844e-02\n",
      "  -1.67012165e-01 -5.19318079e-01 -3.06891334e-01]\n",
      " [ 4.17030000e-01  1.26970122e-02 -7.02865695e-01  3.56613901e-01\n",
      "  -2.61930581e-01 -1.23144831e-01 -3.47798980e-01]\n",
      " [ 0.00000000e+00  0.00000000e+00 -3.10090000e-01 -3.41387861e-02\n",
      "   9.94990954e-03 -5.46026925e-01  7.77453769e-01]\n",
      " [-4.17030000e-01 -3.04567012e-01 -1.86061848e-01  2.16216521e-01\n",
      "  -5.36736092e-01  5.19315629e-01  3.06892271e-01]]\n",
      "\n",
      "Matriz R (triangular superior):\n",
      " [[-4.79582000e+00  2.50218000e+00 -6.25530000e-01 -1.25107000e+00\n",
      "   2.50218000e+00  6.25550000e-01 -2.29364000e+00]\n",
      " [-2.91860000e-05 -3.42619761e+00 -4.56809521e-01 -3.83229465e+00\n",
      "  -1.09127761e+00  1.64995903e-01 -1.67503196e+00]\n",
      " [-1.75718198e-05 -2.10215573e-06 -3.22491275e+00 -1.44727342e-01\n",
      "  -3.12154608e+00 -1.38504757e+00 -5.58163164e-01]\n",
      " [-1.85611041e-05  1.70061637e-05  2.38630209e-06  1.31423516e+00\n",
      "  -1.14404603e+00 -5.97738271e-01  4.79646032e-01]\n",
      " [ 1.12798453e-05 -1.20919799e-05 -2.95409641e-06  1.50253905e-06\n",
      "  -7.03764806e-01  5.57817266e-01  4.01392915e-01]\n",
      " [-1.31252944e-05 -2.80022610e-06  2.48605518e-06 -1.97846678e-06\n",
      "  -7.86135207e-07 -9.97300422e-01 -8.47605928e-04]\n",
      " [-1.71864018e-05 -1.90307317e-06  2.64899920e-06 -1.24585291e-06\n",
      "   2.92821079e-06 -3.42252411e-06 -1.49353721e+00]]\n",
      "\n",
      "Matriz A:\n",
      " [[ 3 -2  1  1 -2  0  2]\n",
      " [-2  3  0  2  1  0  0]\n",
      " [ 1  0  2  0  2  1  1]\n",
      " [ 1  2  0  3  0  0  2]\n",
      " [-2  1  2  0  3  1  0]\n",
      " [ 0  0  1  0  1  1 -1]\n",
      " [ 2  0  1  2  0 -1  1]]\n",
      "\n",
      "Matriz produto QR = A:\n",
      " [[ 2.99997724e+00 -1.99999353e+00  9.99984752e-01  9.99992720e-01\n",
      "  -2.00000990e+00  2.57711066e-06  1.99999564e+00]\n",
      " [-1.99999082e+00  2.99995252e+00 -2.49554700e-05  1.99995636e+00\n",
      "   9.99956388e-01 -2.14926588e-05 -1.51212791e-05]\n",
      " [ 1.00000643e+00 -4.32801235e-05  1.99998150e+00 -4.02276106e-05\n",
      "   1.99997279e+00  9.99966467e-01  9.99970929e-01]\n",
      " [ 1.00000643e+00  1.99994843e+00 -1.69295323e-05  2.99996461e+00\n",
      "  -3.27681643e-05 -1.21706224e-05  1.99996936e+00]\n",
      " [-1.99999081e+00  9.99993369e-01  2.00001604e+00  6.27971849e-06\n",
      "   3.00000970e+00  1.00001290e+00 -4.39252074e-06]\n",
      " [-1.36103901e-10  4.21018537e-10  1.00001378e+00  1.22353024e-05\n",
      "   1.00001688e+00  9.99995912e-01 -9.99993209e-01]\n",
      " [ 1.99999082e+00  3.11652097e-05  1.00003132e+00  2.00000963e+00\n",
      "   5.84808458e-05 -9.99977210e-01  9.99999169e-01]]\n"
     ]
    }
   ],
   "source": [
    "print(\"Matriz Q (ortogonal):\\n\", Q)\n",
    "print(\"\\nMatriz R (triangular superior):\\n\", R)\n",
    "print(\"\\nMatriz A:\\n\", A)\n",
    "print(\"\\nMatriz produto QR = A:\\n\", Q @ R)"
   ]
  },
  {
   "cell_type": "markdown",
   "id": "e6374440",
   "metadata": {},
   "source": [
    "### Teste com Matriz Não Simétrica "
   ]
  },
  {
   "cell_type": "code",
   "execution_count": 9,
   "id": "bcbf4832",
   "metadata": {},
   "outputs": [],
   "source": [
    "# Matriz 7x7\n",
    "A = np.array([[3, -2, 1,-1, 2, 0, 2],\n",
    "              [1, 3, 0, 2, 1, 0, 0],\n",
    "              [5, 0, 2, 0, 2, 1, 1],\n",
    "              [1, 5, 0, 3, 0, 0, 2],\n",
    "              [2, 1, 3, 5, 3, 1, 0],\n",
    "              [3, 5, 1, 0, 2, 1, 1],\n",
    "              [2, 0, 5, 2,-3, 0, 1]])\n",
    "\n",
    "Q, R = qr_decomposition(A)"
   ]
  },
  {
   "cell_type": "code",
   "execution_count": 10,
   "id": "03a99814",
   "metadata": {},
   "outputs": [
    {
     "name": "stdout",
     "output_type": "stream",
     "text": [
      "Matriz Q (ortogonal):\n",
      " [[-4.12080000e-01  4.06674884e-01 -2.46256170e-01 -4.87080927e-02\n",
      "  -5.18350974e-02  7.27542730e-01 -2.64142692e-01]\n",
      " [-1.37360000e-01 -3.49299732e-01 -7.81845135e-02 -2.38816812e-01\n",
      "   1.43903117e-01  3.74550379e-01  7.96839381e-01]\n",
      " [-6.86800000e-01  2.37031419e-01 -2.65143063e-01 -4.02097062e-02\n",
      "   2.95995002e-01 -5.39293357e-01  1.47481936e-01]\n",
      " [-1.37360000e-01 -6.13769732e-01 -3.55640516e-02 -2.55051579e-01\n",
      "   5.21248459e-01  8.87106499e-02 -5.08475375e-01]\n",
      " [-2.74720000e-01 -3.74348317e-02  4.05288990e-01 -6.98849918e-01\n",
      "  -4.99656432e-01 -1.12649004e-01 -9.02463775e-02]\n",
      " [-4.12080000e-01 -5.18944142e-01 -9.70852773e-02  5.18634958e-01\n",
      "  -5.28391295e-01  1.07868725e-04 -5.72367535e-02]\n",
      " [-2.74720000e-01  9.48051683e-02  8.29448119e-01  3.41411698e-01\n",
      "   2.97442944e-01  1.37775990e-01  5.94294241e-02]]\n",
      "\n",
      "Matriz R (triangular superior):\n",
      " [[-7.28008000e+00 -2.60984000e+00 -4.39552000e+00 -2.19776000e+00\n",
      "  -3.15928000e+00 -1.37360000e+00 -2.47248000e+00]\n",
      " [ 2.05298000e-05 -7.56225316e+00  7.23514926e-01 -2.94414737e+00\n",
      "  -4.96495410e-01 -3.19347555e-01 -6.01297251e-01]\n",
      " [-1.40026085e-05  1.14533955e-06  4.48947999e+00  3.66853618e+00\n",
      "  -2.56763092e+00  4.30606500e-02 -9.64206640e-02]\n",
      " [-1.27658151e-05  3.27256650e-05  1.61907148e-05 -4.00550646e+00\n",
      "  -2.50016734e+00 -2.20424667e-01  2.12317606e-01]\n",
      " [ 2.04303813e-05  8.93341674e-06  9.03471675e-06 -9.56259508e-06\n",
      "  -2.81585779e+00 -7.32052726e-01  1.00387337e+00]\n",
      " [ 1.45032287e-08  9.26634926e-06 -3.17638328e-06 -3.06123566e-06\n",
      "  -1.01172917e-05 -6.51834492e-01  1.23109726e+00]\n",
      " [ 1.44444586e-06 -3.49279836e-06 -7.58510007e-06  2.22896054e-05\n",
      "   1.69577745e-05 -1.19478605e-06 -1.39556153e+00]]\n",
      "\n",
      "Matriz A:\n",
      " [[ 3 -2  1 -1  2  0  2]\n",
      " [ 1  3  0  2  1  0  0]\n",
      " [ 5  0  2  0  2  1  1]\n",
      " [ 1  5  0  3  0  0  2]\n",
      " [ 2  1  3  5  3  1  0]\n",
      " [ 3  5  1  0  2  1  1]\n",
      " [ 2  0  5  2 -3  0  1]]\n",
      "\n",
      "Matriz produto QR = A:\n",
      " [[ 2.99998636e+00 -1.99991024e+00  9.99977518e-01 -9.99964555e-01\n",
      "   1.99998565e+00  3.86698034e-06  1.99999703e+00]\n",
      " [ 9.99992858e-01  2.99997469e+00  2.74481291e-05  2.00004900e+00\n",
      "   1.00001439e+00  9.67440742e-06  1.64819192e-05]\n",
      " [ 4.99997429e+00 -5.79726804e-05  1.99998705e+00 -5.84322706e-05\n",
      "   1.99995714e+00  9.99984941e-01  9.99999776e-01]\n",
      " [ 9.99992858e-01  4.99996859e+00  3.71218107e-05  3.00003900e+00\n",
      "  -9.15136315e-05 -3.36020653e-05  2.00004263e+00]\n",
      " [ 1.99997572e+00  1.00003932e+00  2.99997462e+00  5.00005058e+00\n",
      "   3.00007389e+00  1.00000935e+00 -3.65043002e-05]\n",
      " [ 2.99994857e+00  4.99986219e+00  9.99983696e-01 -5.17794796e-05\n",
      "   2.00000824e+00  9.99996182e-01  9.99947859e-01]\n",
      " [ 1.99997572e+00  5.04100052e-05  4.99992827e+00  1.99997997e+00\n",
      "  -3.00001336e+00 -1.05224569e-05  1.00001867e+00]]\n"
     ]
    }
   ],
   "source": [
    "print(\"Matriz Q (ortogonal):\\n\", Q)\n",
    "print(\"\\nMatriz R (triangular superior):\\n\", R)\n",
    "print(\"\\nMatriz A:\\n\", A)\n",
    "print(\"\\nMatriz produto QR = A:\\n\", Q @ R)"
   ]
  }
 ],
 "metadata": {
  "kernelspec": {
   "display_name": "Python 3 (ipykernel)",
   "language": "python",
   "name": "python3"
  },
  "language_info": {
   "codemirror_mode": {
    "name": "ipython",
    "version": 3
   },
   "file_extension": ".py",
   "mimetype": "text/x-python",
   "name": "python",
   "nbconvert_exporter": "python",
   "pygments_lexer": "ipython3",
   "version": "3.8.13"
  }
 },
 "nbformat": 4,
 "nbformat_minor": 5
}

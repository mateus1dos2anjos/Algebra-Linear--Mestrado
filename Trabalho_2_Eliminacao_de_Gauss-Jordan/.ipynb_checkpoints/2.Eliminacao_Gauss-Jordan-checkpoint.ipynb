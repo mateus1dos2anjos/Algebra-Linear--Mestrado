{
 "cells": [
  {
   "cell_type": "markdown",
   "id": "9d8dc6f3",
   "metadata": {},
   "source": [
    "# Algebra Linear Computacional - CKP8122 - MDCC - UFC\n",
    "### Francisco Mateus dos Anjos Silva\n",
    "# 2. Eliminação de Gauss-Jordan"
   ]
  },
  {
   "cell_type": "markdown",
   "id": "150dd915",
   "metadata": {},
   "source": [
    "O algoritmo conhecido por **Eliminação de Gauss-Jordan** é uma versão da eliminação de Gauss que zera os elementos acima e abaixo do elemento de pivotação, conforme ele percorre a matriz. Em outras palavras, a eliminação de Gauss-Jordan transforma a matriz em uma matriz na forma escalonada reduzida por linhas, enquanto a eliminação de Gauss transforma em uma matriz na forma escalonada por linhas."
   ]
  },
  {
   "cell_type": "code",
   "execution_count": null,
   "id": "aa9f1b0f",
   "metadata": {},
   "outputs": [],
   "source": [
    "# Implementar o método de Gauss-Jordan para resolução de sistemas Ax = b.\n",
    "# Obs.: Aproveitar as estratégias de pivotação da Tarefa 01 (Eliminacão de Gauss)."
   ]
  },
  {
   "cell_type": "code",
   "execution_count": 1,
   "id": "aabf2492",
   "metadata": {},
   "outputs": [],
   "source": [
    "import numpy as np"
   ]
  },
  {
   "cell_type": "code",
   "execution_count": 5,
   "id": "8861ca2d",
   "metadata": {},
   "outputs": [],
   "source": [
    "def eliminationGaussJordan(A,b):\n",
    "    A = np.array(A, float)\n",
    "    b = np.array(b, float)\n",
    "    n = len(b)\n",
    "    \n",
    "    for k in range(n):\n",
    "        # Pivotação parcial\n",
    "        if np.fabs(A[k,k]) < 1.0e-12:\n",
    "            for i in range(k+1,n):\n",
    "                if np.fabs(A[i,k]) > np.fabs(A[k,k]):\n",
    "                    # Trocar as linhas\n",
    "                    for j in range(k,n):\n",
    "                        A[k,j], A[i,j] = A[i,j], A[k,j]  # swapping\n",
    "                    b[k], b[i] = b[i], b[k]  # swapping\n",
    "                    break\n",
    "        \n",
    "        # Fazer pivô ser 1 \n",
    "        # Divisão da linha do pivô pelo pivô (a partir do pivô, pois antes dele já vai tá 0) \n",
    "        pivo = A[k,k]\n",
    "        for j in range(k,n):\n",
    "            A[k,j] /= pivo\n",
    "        b[k] /= pivo\n",
    "        \n",
    "        # Eliminação\n",
    "        for i in range(n):\n",
    "            if i == k or A[i,k]==0: \n",
    "                continue\n",
    "            mult = A[i,k]\n",
    "            for j in range(k,n):\n",
    "                A[i,j] -= mult*A[k,j]\n",
    "            b[i] -= mult*b[k]\n",
    "    \n",
    "    return A,b\n",
    "                          "
   ]
  },
  {
   "cell_type": "code",
   "execution_count": 10,
   "id": "3244862c",
   "metadata": {},
   "outputs": [],
   "source": [
    "# Teste com dados 1\n",
    "A1 = [[4, 6, -2],\n",
    "      [4, 4, -3],\n",
    "      [6, -9,-9]]\n",
    "\n",
    "b1 = [10, 3, -3]\n",
    "\n",
    "# Teste com dados 2\n",
    "A2 = [[1, 2, -1],\n",
    "      [2, -1, 1],\n",
    "      [1, 1, 1]]\n",
    "\n",
    "b2 = [2, 3, 6]\n",
    "\n",
    "# Teste com dados 3\n",
    "A3 = [[1,2,3,4,5,6,7,8,9,10],\n",
    "      [10,2,2,3,4,5,6,7,8,9],\n",
    "      [9,10,1,2,3,4,5,6,7,8],\n",
    "      [8,9,10,1,2,3,4,5,6,7],\n",
    "      [7,8,9,10,1,2,3,4,5,6],\n",
    "      [6,7,8,9,10,1,2,3,4,5],\n",
    "      [5,6,7,8,9,10,1,2,3,4],\n",
    "      [4,5,6,7,8,9,10,1,2,3],\n",
    "      [3,4,5,6,7,8,9,10,1,2],\n",
    "      [2,3,4,5,6,7,8,9,10,2]]\n",
    "\n",
    "b3 = [55, 56, 57, 58, 59, 60, 61, 62, 63, 64]"
   ]
  },
  {
   "cell_type": "code",
   "execution_count": 8,
   "id": "38baf7f0",
   "metadata": {},
   "outputs": [
    {
     "name": "stdout",
     "output_type": "stream",
     "text": [
      "A = [[1. 0. 0.]\n",
      " [0. 1. 0.]\n",
      " [0. 0. 1.]]\n",
      "x = [16. -4. 15.]\n"
     ]
    }
   ],
   "source": [
    "A,x = eliminationGaussJordan(A1,b1)\n",
    "print(\"A =\",A)\n",
    "print(\"x =\",x)"
   ]
  },
  {
   "cell_type": "code",
   "execution_count": null,
   "id": "b9b1b807",
   "metadata": {},
   "outputs": [],
   "source": [
    "# Saída esperada:\n",
    "\n",
    "# A = [[1. 0. 0.]\n",
    "#     [0. 1. 0.]\n",
    "#     [0. 0. 1.]]\n",
    "# x = [16. -4. 15.]"
   ]
  },
  {
   "cell_type": "code",
   "execution_count": 11,
   "id": "46c63489",
   "metadata": {},
   "outputs": [
    {
     "name": "stdout",
     "output_type": "stream",
     "text": [
      "A = [[1. 0. 0.]\n",
      " [0. 1. 0.]\n",
      " [0. 0. 1.]]\n",
      "x = [1. 2. 3.]\n"
     ]
    }
   ],
   "source": [
    "A,x = eliminationGaussJordan(A2,b2)\n",
    "print(\"A =\",A)\n",
    "print(\"x =\",x)"
   ]
  },
  {
   "cell_type": "code",
   "execution_count": null,
   "id": "603f77b1",
   "metadata": {},
   "outputs": [],
   "source": [
    "# Saída esperada:\n",
    "\n",
    "# A = [[1. 0. 0.]\n",
    "#     [0. 1. 0.]\n",
    "#     [0. 0. 1.]]\n",
    "# x = [1. 2. 3.]"
   ]
  },
  {
   "cell_type": "code",
   "execution_count": 12,
   "id": "da655ac8",
   "metadata": {},
   "outputs": [
    {
     "name": "stdout",
     "output_type": "stream",
     "text": [
      "A = [[1. 0. 0. 0. 0. 0. 0. 0. 0. 0.]\n",
      " [0. 1. 0. 0. 0. 0. 0. 0. 0. 0.]\n",
      " [0. 0. 1. 0. 0. 0. 0. 0. 0. 0.]\n",
      " [0. 0. 0. 1. 0. 0. 0. 0. 0. 0.]\n",
      " [0. 0. 0. 0. 1. 0. 0. 0. 0. 0.]\n",
      " [0. 0. 0. 0. 0. 1. 0. 0. 0. 0.]\n",
      " [0. 0. 0. 0. 0. 0. 1. 0. 0. 0.]\n",
      " [0. 0. 0. 0. 0. 0. 0. 1. 0. 0.]\n",
      " [0. 0. 0. 0. 0. 0. 0. 0. 1. 0.]\n",
      " [0. 0. 0. 0. 0. 0. 0. 0. 0. 1.]]\n",
      "x = [1.04806617 1.31008272 1.17907445 1.17907445 1.17907445 1.17907445\n",
      " 1.17907445 1.17907445 1.15917729 0.19897161]\n"
     ]
    }
   ],
   "source": [
    "A,x = eliminationGaussJordan(A3,b3)\n",
    "print(\"A =\",A)\n",
    "print(\"x =\",x)"
   ]
  },
  {
   "cell_type": "code",
   "execution_count": null,
   "id": "c1ed04ba",
   "metadata": {},
   "outputs": [],
   "source": [
    "# Saída esperada:\n",
    "\n",
    "# A = [[1. 0. 0. 0. 0. 0. 0. 0. 0. 0.]\n",
    "#      [0. 1. 0. 0. 0. 0. 0. 0. 0. 0.]\n",
    "#      [0. 0. 1. 0. 0. 0. 0. 0. 0. 0.]\n",
    "#      [0. 0. 0. 1. 0. 0. 0. 0. 0. 0.]\n",
    "#      [0. 0. 0. 0. 1. 0. 0. 0. 0. 0.]\n",
    "#      [0. 0. 0. 0. 0. 1. 0. 0. 0. 0.]\n",
    "#      [0. 0. 0. 0. 0. 0. 1. 0. 0. 0.]\n",
    "#      [0. 0. 0. 0. 0. 0. 0. 1. 0. 0.]\n",
    "#      [0. 0. 0. 0. 0. 0. 0. 0. 1. 0.]\n",
    "#      [0. 0. 0. 0. 0. 0. 0. 0. 0. 1.]]\n",
    "# x = [1.04806617 1.31008272 1.17907445 1.17907445 1.17907445 1.17907445\n",
    "# 1.17907445 1.17907445 1.15917729 0.19897161]"
   ]
  }
 ],
 "metadata": {
  "kernelspec": {
   "display_name": "Python 3 (ipykernel)",
   "language": "python",
   "name": "python3"
  },
  "language_info": {
   "codemirror_mode": {
    "name": "ipython",
    "version": 3
   },
   "file_extension": ".py",
   "mimetype": "text/x-python",
   "name": "python",
   "nbconvert_exporter": "python",
   "pygments_lexer": "ipython3",
   "version": "3.8.13"
  }
 },
 "nbformat": 4,
 "nbformat_minor": 5
}

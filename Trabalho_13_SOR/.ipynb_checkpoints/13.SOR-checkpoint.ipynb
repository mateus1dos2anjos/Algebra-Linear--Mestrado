{
 "cells": [
  {
   "cell_type": "markdown",
   "id": "61e7ebcc",
   "metadata": {},
   "source": [
    "# Álgebra Linear Computacional - CKP8122 - MDCC - UFC\n",
    "### Francisco Mateus dos Anjos Silva\n",
    "# SOR"
   ]
  },
  {
   "cell_type": "markdown",
   "id": "9e0574d5",
   "metadata": {},
   "source": [
    "Em álgebra linear numérica, o **método de superrelaxação sucessiva (SOR)** é uma variante do método de Gauss-Seidel para resolver um sistema linear de equações, resultando em uma convergência mais rápida. Um método semelhante pode ser usado para qualquer processo iterativo de convergência lenta.\n",
    "\n",
    "Foi concebido simultaneamente por David M. Young Jr. e por Stanley P. Frankel em 1950 com o propósito de resolver automaticamente sistemas lineares em computadores digitais. Métodos de relaxamento excessivo foram usados antes do trabalho de Young e Frankel. Um exemplo é o método de Lewis Fry Richardson, e os métodos desenvolvidos por RV Southwell. No entanto, esses métodos foram projetados para computação por calculadoras humanas, exigindo algum conhecimento para garantir a convergência para a solução, o que os tornava inaplicáveis para programação em computadores digitais.\n",
    "\n",
    "Dado um sistema quadrado de n equações lineares com x desconhecido:\n",
    "\n",
    "${\\displaystyle A\\mathbf {x} =\\mathbf {b} }$\n",
    "\n",
    "Onde:\n",
    "\n",
    "${\\displaystyle A={\\begin{bmatrix}a_{11}&a_{12}&\\cdots &a_{1n}\\\\a_{21}&a_{22}&\\cdots &a_{2n}\\\\\\vdots &\\vdots &\\ddots &\\vdots \\\\a_{n1}&a_{n2}&\\cdots &a_{nn}\\end{bmatrix}},\\qquad \\mathbf {x} ={\\begin{bmatrix}x_{1}\\\\ x_{2}\\\\\\vdots \\\\x_{n}\\end{bmatrix}},\\qquad \\mathbf {b} ={\\begin{bmatrix}b_{1}\\\\b_{2}\\\\\\vdots \\\\b_{n}\\end{bmatrix}}.}$\n",
    "\n",
    "Então A pode ser decomposto em um componente diagonal D, e componentes triangulares estritamente inferiores e superiores L e U:\n",
    "\n",
    "${A=D+L+U,}$\n",
    "\n",
    "Onde\n",
    "\n",
    "${\\displaystyle D={\\begin{bmatrix}a_{11}&0&\\cdots &0\\\\0&a_{22}&\\cdots &0\\\\\\vdots &\\vdots &\\ddots &\\vdots \\\\0&0&\\cdots &a_{nn }\\end{bmatrix}},\\quad L={\\begin{bmatrix}0&0&\\cdots &0\\\\a_{21}&0&\\cdots &0\\\\\\vdots &\\vdots &\\ddots &\\vdots \\\\a_{n1 }&a_{n2}&\\cdots &0\\end{bmatrix}},\\quad U={\\begin{bmatrix}0&a_{12}&\\cdots &a_{1n}\\\\0&0&\\cdots &a_{2n}\\\\\\vdots &\\vdots &\\ddots &\\vdots \\\\0&0&\\cdots &0\\end{bmatrix}}.}$\n",
    "\n",
    "O sistema de equações lineares pode ser reescrito como:\n",
    "\n",
    "${\\displaystyle (D+\\omega L)\\mathbf {x} =\\omega \\mathbf {b} -[\\omega U+(\\omega -1)D]\\mathbf {x} }$\n",
    "\n",
    "para uma constante ω > 1, chamada de fator de relaxação.\n",
    "\n",
    "O método SOR é uma técnica iterativa que resolve o lado esquerdo desta expressão para x, usando o valor anterior para x no lado direito. Analiticamente, isso pode ser escrito como:\n",
    "\n",
    "${\\displaystyle \\mathbf {x} ^{(k+1)}=(D+\\omega L)^{-1}{\\big (}\\omega \\mathbf {b} -[\\omega U+(\\omega -1 )D]\\mathbf {x} ^{(k)}{\\big )}=L_{w}\\mathbf {x} ^{(k)}+\\mathbf {c} ,}$ onde ${\\displaystyle \\mathbf {x} ^{(k)}}$ é a k-ésima aproximação ou iteração de ${\\displaystyle \\mathbf {x} }$ e ${ \\displaystyle \\mathbf {x} ^{(k+1)}}$ é a próxima ou k + 1 iteração de ${\\displaystyle \\mathbf {x} }$. No entanto, aproveitando a forma triangular de (D+ωL), os elementos de x(k+1) podem ser calculados sequencialmente usando a substituição direta:\n",
    "\n",
    "${\\displaystyle x_{i}^{(k+1)}=(1-\\omega )x_{i}^{(k)}+{\\frac {\\omega }{a_{ii}}}\\left( b_{i}-\\sum _{j<i}a_{ij}x_{j}^{(k+1)}-\\sum _{j>i}a_{ij}x_{j}^{(k )}\\right),\\quad i=1,2,\\ldots ,n.}$\n",
    "\n",
    "**Referências:**\n",
    "\n",
    "- https://en.wikipedia.org/wiki/Successive_over-relaxation"
   ]
  },
  {
   "cell_type": "code",
   "execution_count": 1,
   "id": "b71aa741",
   "metadata": {},
   "outputs": [],
   "source": [
    "# Implemente o método SOR (Successive OverRelaxation) para resolver, de forma iterativa, um sistema de equações \n",
    "# algébricas lineares.\n",
    "\n",
    "# Teste vários valores do parâmetro ômega para ver sua influência na aceleração da convergência."
   ]
  },
  {
   "cell_type": "code",
   "execution_count": 2,
   "id": "2441a297",
   "metadata": {},
   "outputs": [],
   "source": [
    "import numpy as np"
   ]
  },
  {
   "cell_type": "code",
   "execution_count": 3,
   "id": "0bbdce33",
   "metadata": {},
   "outputs": [],
   "source": [
    "def SOR(A, b, omega=0.5, error=0.00000001, max_iter=3000):\n",
    "    n_A = len(A)\n",
    "    solutions = np.zeros(n_A)\n",
    "    previous_solutions =np.zeros(n_A)\n",
    "    qtd_iter = 1\n",
    "\n",
    "    while qtd_iter <= max_iter:\n",
    "        solutions = np.zeros(n_A)\n",
    "        \n",
    "        for i in range(0, n_A):\n",
    "            sum_others = 0\n",
    "            for j in range(0, n_A):\n",
    "                if i != j:\n",
    "                    if j < i:\n",
    "                        sum_others += A[i,j] * solutions[j]\n",
    "                    else:\n",
    "                        sum_others += A[i,j] * previous_solutions[j]\n",
    "            solutions[i] = (1-omega) * previous_solutions[i] + (omega/A[i,i]) * (b[i] - sum_others)\n",
    "            \n",
    "        if np.allclose(previous_solutions, solutions, atol=error, rtol=0.):\n",
    "            break\n",
    "        \n",
    "        qtd_iter +=1\n",
    "        previous_solutions = solutions;\n",
    "        \n",
    "    print('\\nQuantidade de iterações:', qtd_iter)\n",
    "    return solutions"
   ]
  },
  {
   "cell_type": "code",
   "execution_count": 4,
   "id": "0f3d5619",
   "metadata": {
    "scrolled": true
   },
   "outputs": [
    {
     "name": "stdout",
     "output_type": "stream",
     "text": [
      "Matriz A:\n",
      " [[ 3 -2  1  1]\n",
      " [-2  3  0  2]\n",
      " [ 1  0  2  0]\n",
      " [ 1  2  0  3]]\n",
      "\n",
      "b:\n",
      " [[4]\n",
      " [3]\n",
      " [2]\n",
      " [3]]\n",
      "\n",
      "Solução (numpy): [-1.7143 -2.1429  1.8571  3.    ]\n",
      "\n",
      "Quantidade de iterações: 3001\n",
      "Solução SOR com omega = 0.1 : [ 3.2177e+23  3.5208e+23 -1.3888e+23 -2.9521e+23]\n",
      "\n",
      "Quantidade de iterações: 3001\n",
      "Solução SOR com omega = 0.2 : [ 1.5139e+49  1.6693e+49 -6.5991e+48 -1.4101e+49]\n",
      "\n",
      "Quantidade de iterações: 3001\n",
      "Solução SOR com omega = 0.30000000000000004 : [ 5.9697e+77  6.6388e+77 -2.6308e+77 -5.6547e+77]\n",
      "\n",
      "Quantidade de iterações: 3001\n",
      "Solução SOR com omega = 0.4 : [ 5.6914e+109  6.3899e+109 -2.5390e+109 -5.4935e+109]\n",
      "\n",
      "Quantidade de iterações: 3001\n",
      "Solução SOR com omega = 0.5 : [ 4.5600e+145  5.1748e+145 -2.0624e+145 -4.4955e+145]\n",
      "\n",
      "Quantidade de iterações: 3001\n",
      "Solução SOR com omega = 0.6 : [ 1.3166e+186  1.5122e+186 -6.0473e+185 -1.3293e+186]\n",
      "\n",
      "Quantidade de iterações: 3001\n",
      "Solução SOR com omega = 0.7000000000000001 : [ 7.3661e+231  8.5767e+231 -3.4429e+231 -7.6401e+231]\n",
      "\n",
      "Quantidade de iterações: 3001\n",
      "Solução SOR com omega = 0.8 : [ 5.3858e+283  6.3685e+283 -2.5674e+283 -5.7595e+283]\n",
      "\n",
      "Quantidade de iterações: 3001\n",
      "Solução SOR com omega = 0.9 : [nan nan nan nan]\n"
     ]
    },
    {
     "name": "stderr",
     "output_type": "stream",
     "text": [
      "/tmp/ipykernel_67250/3892919989.py:17: RuntimeWarning: overflow encountered in double_scalars\n",
      "  sum_others += A[i,j] * previous_solutions[j]\n",
      "/tmp/ipykernel_67250/3892919989.py:15: RuntimeWarning: invalid value encountered in multiply\n",
      "  sum_others += A[i,j] * solutions[j]\n"
     ]
    }
   ],
   "source": [
    "np.set_printoptions(precision=4)\n",
    "\n",
    "A = np.array([[ 3,-2, 1, 1],\n",
    "              [-2, 3, 0, 2],\n",
    "              [ 1, 0, 2, 0],\n",
    "              [ 1, 2, 0, 3]])\n",
    "\n",
    "b = np.array([[4],\n",
    "              [3], \n",
    "              [2], \n",
    "              [3]])\n",
    "\n",
    "print('Matriz A:\\n', A)\n",
    "print('\\nb:\\n', b)\n",
    "\n",
    "print('\\nSolução (numpy):', np.linalg.solve(A,b).flatten())\n",
    "\n",
    "for omega in np.arange(0.1,1,0.1):\n",
    "    solutions_sor = SOR(A, b, omega=omega)\n",
    "    print('Solução SOR com omega =',omega,':',solutions_sor)"
   ]
  },
  {
   "cell_type": "code",
   "execution_count": 5,
   "id": "cd1182f2",
   "metadata": {},
   "outputs": [
    {
     "name": "stdout",
     "output_type": "stream",
     "text": [
      "Matriz A:\n",
      " [[ 61 -51 -19]\n",
      " [-51  43  16]\n",
      " [-19  16   6]]\n",
      "\n",
      "b:\n",
      " [[-537]\n",
      " [ 451]\n",
      " [ 168]]\n",
      "\n",
      "Solução (numpy): [-4.  5.  2.]\n",
      "\n",
      "Quantidade de iterações: 3001\n",
      "Solução SOR com omega = 0.1 : [-4.093   4.3832  3.3558]\n",
      "\n",
      "Quantidade de iterações: 3001\n",
      "Solução SOR com omega = 0.2 : [-4.0833  4.7769  2.3322]\n",
      "\n",
      "Quantidade de iterações: 3001\n",
      "Solução SOR com omega = 0.30000000000000004 : [-4.0299  4.9317  2.0877]\n",
      "\n",
      "Quantidade de iterações: 3001\n",
      "Solução SOR com omega = 0.4 : [-4.0081  4.9829  2.0201]\n",
      "\n",
      "Quantidade de iterações: 3001\n",
      "Solução SOR com omega = 0.5 : [-4.0017  4.9967  2.0035]\n",
      "\n",
      "Quantidade de iterações: 3001\n",
      "Solução SOR com omega = 0.6 : [-4.0002  4.9996  2.0004]\n",
      "\n",
      "Quantidade de iterações: 3001\n",
      "Solução SOR com omega = 0.7000000000000001 : [-4.  5.  2.]\n",
      "\n",
      "Quantidade de iterações: 2635\n",
      "Solução SOR com omega = 0.8 : [-4.  5.  2.]\n",
      "\n",
      "Quantidade de iterações: 2235\n",
      "Solução SOR com omega = 0.9 : [-4.  5.  2.]\n"
     ]
    }
   ],
   "source": [
    "np.set_printoptions(precision=4)\n",
    "\n",
    "A = np.array([[6,  -5, -2],\n",
    "              [-3,  3,  1],\n",
    "              [-4,  3,  1]])\n",
    "\n",
    "b = np.array([[-53],\n",
    "              [29], \n",
    "              [33]])\n",
    "\n",
    "A_ = A.T @ A\n",
    "\n",
    "b_ = A.T @ b\n",
    "\n",
    "print('Matriz A:\\n', A_)\n",
    "print('\\nb:\\n', b_)\n",
    "\n",
    "print('\\nSolução (numpy):', np.linalg.solve(A_,b_).flatten())\n",
    "\n",
    "for omega in np.arange(0.1,1,0.1):\n",
    "    solutions_sor = SOR(A_, b_, omega=omega)\n",
    "    print('Solução SOR com omega =',omega,':',solutions_sor)"
   ]
  },
  {
   "cell_type": "markdown",
   "id": "0fa87002",
   "metadata": {},
   "source": [
    "Podemos observar que quanto maior o omega, menor a quantidade de iterações e o resultado é mais preciso."
   ]
  }
 ],
 "metadata": {
  "kernelspec": {
   "display_name": "Python 3 (ipykernel)",
   "language": "python",
   "name": "python3"
  },
  "language_info": {
   "codemirror_mode": {
    "name": "ipython",
    "version": 3
   },
   "file_extension": ".py",
   "mimetype": "text/x-python",
   "name": "python",
   "nbconvert_exporter": "python",
   "pygments_lexer": "ipython3",
   "version": "3.8.13"
  }
 },
 "nbformat": 4,
 "nbformat_minor": 5
}

{
 "cells": [
  {
   "cell_type": "markdown",
   "id": "9d8dc6f3",
   "metadata": {},
   "source": [
    "# Álgebra Linear Computacional - CKP8122 - MDCC - UFC\n",
    "### Francisco Mateus dos Anjos Silva\n",
    "# 3. Decomposição LU"
   ]
  },
  {
   "cell_type": "markdown",
   "id": "8540b17d",
   "metadata": {},
   "source": [
    "Em álgebra linear, a decomposição LU (em que LU vem do inglês *lower* e *upper*) é uma forma de fatoração de uma matriz quadrada como o produto de uma matriz triangular inferior (*lower*) e uma matriz triangular superior (*upper*). Às vezes se deve pré-multiplicar a matriz a ser decomposta por uma matriz de permutação. \n",
    "\n",
    "Sendo A uma matriz simples quadrada. Uma fatoração LU refere-se à fatoração de A, com ordenações ou permutações adequadas de linhas e/ou colunas, em dois fatores - uma matriz triangular inferior L e uma matriz triangular superior U:\n",
    "\n",
    "$A=LU$\n",
    "\n",
    "onde L e U são, respectivamente, matrizes inferiores e superiores triangulares. Na matriz triangular inferior, todos os elementos acima da diagonal são zero; na matriz triangular superior, todos os elementos abaixo da diagonal são zero.\n",
    "\n",
    "Para matrizes $3\\times 3$, sua decomposição LU é:\n",
    "\n",
    "$\n",
    "\\begin{pmatrix}a_{11}&a_{12}&a_{13}\\\\a_{21}&a_{22}&a_{23}\\\\a_{31}&a_{32}&a_{33}\\\\\\end{pmatrix} = \\begin{pmatrix}l_{11}&0&0\\\\l_{21}&l_{22}&0\\\\l_{31}&l_{32}&l_{33}\\\\\\end{pmatrix} \\begin{pmatrix}u_{11}&u_{12}&u_{13}\\\\0&u_{22}&u_{23}\\\\0&0&u_{33}\\\\\\end{pmatrix}\n",
    "$\n",
    "\n",
    "**Referências:**\n",
    "- https://pt.wikipedia.org/wiki/Decomposi%C3%A7%C3%A3o_LU"
   ]
  },
  {
   "cell_type": "code",
   "execution_count": 1,
   "id": "35fddd79",
   "metadata": {},
   "outputs": [],
   "source": [
    "# Questão:\n",
    "\n",
    "# Implementar a decomposição LU de uma matriz e utilizá-la na solução de um sistema linear.\n",
    "\n",
    "# Nota: às vezes a matriz original não tem decomposição LU ou tem uma decomposição PLU onde P é uma matriz \n",
    "# de permutação.\n",
    "# Vamos considerar apenas os casos em que a matriz tem decomposição LU sem recorrer à permutação de linhas."
   ]
  },
  {
   "cell_type": "code",
   "execution_count": 2,
   "id": "859504cb",
   "metadata": {},
   "outputs": [],
   "source": [
    "# Lower–Upper Decomposition\n",
    "def LUDecomposition(A):\n",
    "    n = len(A)\n",
    "\n",
    "    # Calculo dos pivos\n",
    "    for k in range(1,n):\n",
    "        # Calculo dos multiplicadores\n",
    "        for i in range(k+1,n+1):  \n",
    "            m = A[i-1][k-1]/A[k-1][k-1] \n",
    "            A[i-1][k-1] = m\n",
    "            # Atualizar os outros valores da linha\n",
    "            for j in range(k+1,n+1): \n",
    "                A[i-1][j-1] = A[i-1][j-1]-m*A[k-1][j-1] \n",
    "\n",
    "    return A"
   ]
  },
  {
   "cell_type": "code",
   "execution_count": 3,
   "id": "138efe41",
   "metadata": {},
   "outputs": [],
   "source": [
    "# Resolve sistema triangular inferior\n",
    "def solveLowerTriangularMatrix(L,b):\n",
    "    n = len(b)\n",
    "    y = [0]*n\n",
    "    \n",
    "    for i in range(1,n+1): # i de 1 até n\n",
    "        s = 0\n",
    "        for j in range(1,i): # j de 1 até i-1\n",
    "            s = s + L[i-1][j-1]*y[j-1]\n",
    "\n",
    "        y[i-1] = b[i-1] - s\n",
    "\n",
    "    return y"
   ]
  },
  {
   "cell_type": "code",
   "execution_count": 4,
   "id": "d5b8982a",
   "metadata": {},
   "outputs": [],
   "source": [
    "# Resolve sistema triangular superior\n",
    "def solveUpperTriangularMatrix(U,b):\n",
    "    n = len(b)\n",
    "    x = [0]*n\n",
    "    x[n-1] = b[n-1]/U[n-1][n-1]\n",
    "    \n",
    "    for i in range(n-1,0, -1): # i de n-1 até 1, decrementando 1\n",
    "        s = 0\n",
    "        for j in range(i+1,n+1): # j de i+1 até n\n",
    "            s = s + U[i-1][j-1]*x[j-1]\n",
    "\n",
    "        x[i-1] = (b[i-1]-s)/(U[i-1][i-1])\n",
    "\n",
    "    return x"
   ]
  },
  {
   "cell_type": "code",
   "execution_count": 5,
   "id": "3244862c",
   "metadata": {},
   "outputs": [],
   "source": [
    "# Teste com dados 1\n",
    "A1 = [[4, 6, -2],\n",
    "      [4, 4, -3],\n",
    "      [6, -9,-9]]\n",
    "\n",
    "b1 = [10, 3, -3]\n",
    "\n",
    "# Teste com dados 2\n",
    "A2 = [[1, 2, -1],\n",
    "      [2, -1, 1],\n",
    "      [1, 1, 1]]\n",
    "\n",
    "b2 = [2, 3, 6]\n",
    "\n",
    "# Teste com dados 3\n",
    "A3 = [[1,2,3,4,5,6,7,8,9,10],\n",
    "      [10,2,2,3,4,5,6,7,8,9],\n",
    "      [9,10,1,2,3,4,5,6,7,8],\n",
    "      [8,9,10,1,2,3,4,5,6,7],\n",
    "      [7,8,9,10,1,2,3,4,5,6],\n",
    "      [6,7,8,9,10,1,2,3,4,5],\n",
    "      [5,6,7,8,9,10,1,2,3,4],\n",
    "      [4,5,6,7,8,9,10,1,2,3],\n",
    "      [3,4,5,6,7,8,9,10,1,2],\n",
    "      [2,3,4,5,6,7,8,9,10,2]]\n",
    "\n",
    "b3 = [55, 56, 57, 58, 59, 60, 61, 62, 63, 64]\n",
    "\n",
    "# Teste com dados 4\n",
    "A4 = [[3, 2, 4],\n",
    "      [1, 1, 2],\n",
    "      [4, 3, -2]]\n",
    "\n",
    "b4 = [1, 2, 3]\n",
    "\n",
    "# Teste com dados 5\n",
    "A5 = [[2, 10, 8,  8, 6],\n",
    "      [1,  4,-2,  4,-1],\n",
    "      [0,  2, 3,  2, 1],\n",
    "      [3,  8, 3, 10, 9],\n",
    "      [1,  4, 1,  2, 1]]\n",
    "\n",
    "b5 = [52,14,12,51,15]"
   ]
  },
  {
   "cell_type": "code",
   "execution_count": null,
   "id": "564b6dda",
   "metadata": {},
   "outputs": [],
   "source": []
  },
  {
   "cell_type": "code",
   "execution_count": 7,
   "id": "46c63489",
   "metadata": {},
   "outputs": [
    {
     "name": "stdout",
     "output_type": "stream",
     "text": [
      "A = [[4, 6, -2], [1.0, -2.0, -1.0], [1.5, 9.0, 3.0]]\n",
      "y = [10, -7.0, 45.0]\n",
      "x = [16.0, -4.0, 15.0]\n"
     ]
    }
   ],
   "source": [
    "# Obtendo os fatores L e U\n",
    "A = LUDecomposition(A1)\n",
    "print(\"A =\",A)\n",
    "\n",
    "y = solveLowerTriangularMatrix(A,b1)\n",
    "print(\"y =\",y)\n",
    "\n",
    "x = solveUpperTriangularMatrix(A,y)\n",
    "print(\"x =\",x)"
   ]
  },
  {
   "cell_type": "code",
   "execution_count": 8,
   "id": "b9b1b807",
   "metadata": {},
   "outputs": [],
   "source": [
    "# Saída esperada:\n",
    "\n",
    "# A = [[1. 0. 0.]\n",
    "#     [0. 1. 0.]\n",
    "#     [0. 0. 1.]]\n",
    "# x = [16. -4. 15.]"
   ]
  },
  {
   "cell_type": "code",
   "execution_count": 9,
   "id": "433b8cd1",
   "metadata": {},
   "outputs": [
    {
     "name": "stdout",
     "output_type": "stream",
     "text": [
      "A = [[1, 2, -1], [2.0, -5.0, 3.0], [1.0, 0.2, 1.4]]\n",
      "y = [2, -1.0, 4.2]\n",
      "x = [0.9999999999999996, 2.0000000000000004, 3.0000000000000004]\n"
     ]
    }
   ],
   "source": [
    "# Obtendo os fatores L e U\n",
    "A = LUDecomposition(A2)\n",
    "print(\"A =\",A)\n",
    "\n",
    "y = solveLowerTriangularMatrix(A,b2)\n",
    "print(\"y =\",y)\n",
    "\n",
    "x = solveUpperTriangularMatrix(A,y)\n",
    "print(\"x =\",x)"
   ]
  },
  {
   "cell_type": "code",
   "execution_count": 10,
   "id": "db206afd",
   "metadata": {},
   "outputs": [],
   "source": [
    "# Saída esperada:\n",
    "\n",
    "# A = [[1, 2, -1], [2.0, -5.0, 3.0], [1.0, 0.2, 1.4]]\n",
    "# y = [2, -1.0, 4.2]\n",
    "# x = [0.9999999999999996, 2.0000000000000004, 3.0000000000000004]"
   ]
  },
  {
   "cell_type": "code",
   "execution_count": 11,
   "id": "da655ac8",
   "metadata": {},
   "outputs": [
    {
     "name": "stdout",
     "output_type": "stream",
     "text": [
      "A = [[1, 2, 3, 4, 5, 6, 7, 8, 9, 10], [10.0, -18.0, -28.0, -37.0, -46.0, -55.0, -64.0, -73.0, -82.0, -91.0], [9.0, 0.4444444444444444, -13.555555555555557, -17.555555555555557, -21.555555555555557, -25.555555555555557, -29.555555555555557, -33.55555555555556, -37.55555555555556, -41.55555555555556], [8.0, 0.3888888888888889, 0.22950819672131142, -12.581967213114755, -15.16393442622951, -17.74590163934426, -20.327868852459016, -22.90983606557377, -25.49180327868853, -28.073770491803277], [7.0, 0.3333333333333333, 0.1967213114754099, 0.1758957654723127, -11.758957654723126, -13.517915309446256, -15.276872964169382, -17.035830618892508, -18.794788273615634, -20.553745928338767], [6.0, 0.2777777777777778, 0.16393442622950813, 0.1465798045602606, 0.12465373961218836, -11.246537396121884, -12.493074792243767, -13.739612188365651, -14.986149584487535, -16.23268698060942], [5.0, 0.2222222222222222, 0.1311475409836066, 0.11726384364820845, 0.09972299168975068, 0.0886699507389163, -10.886699507389162, -11.773399014778326, -12.660098522167486, -13.54679802955665], [4.0, 0.16666666666666666, 0.09836065573770494, 0.08794788273615635, 0.07479224376731303, 0.06650246305418715, 0.061085972850678794, -10.610859728506789, -11.221719457013576, -11.832579185520364], [3.0, 0.1111111111111111, 0.0655737704918033, 0.058631921824104226, 0.04986149584487534, 0.04433497536945815, 0.04072398190045246, 0.03837953091684437, -10.383795309168445, -10.767590618336888], [2.0, 0.05555555555555555, 0.03278688524590165, 0.029315960912052113, 0.02493074792243767, 0.022167487684729075, 0.02036199095022623, 0.019189765458422187, 0.018480492813141673, -9.184804928131417]]\n",
      "y = [55, -494.0, -218.44444444444446, -139.75409836065575, -93.77850162866449, -64.79224376731301, -44.08866995073893, -27.873303167420815, -14.17910447761193, -1.827515400410661]\n",
      "x = [1.0480661748267366, 1.3100827185334272, 1.1790744466800787, 1.1790744466800822, 1.1790744466800804, 1.1790744466800778, 1.1790744466800824, 1.1790744466800815, 1.15917728593785, 0.19897160742230985]\n"
     ]
    }
   ],
   "source": [
    "# Obtendo os fatores L e U\n",
    "A = LUDecomposition(A3)\n",
    "print(\"A =\",A)\n",
    "\n",
    "y = solveLowerTriangularMatrix(A,b3)\n",
    "print(\"y =\",y)\n",
    "\n",
    "x = solveUpperTriangularMatrix(A,y)\n",
    "print(\"x =\",x)"
   ]
  },
  {
   "cell_type": "code",
   "execution_count": 12,
   "id": "603f77b1",
   "metadata": {},
   "outputs": [],
   "source": [
    "# Saída esperada:\n",
    "\n",
    "# A = [[1, 2, 3, 4, 5, 6, 7, 8, 9, 10], [10.0, -18.0, -28.0, -37.0, -46.0, -55.0, -64.0, -73.0, -82.0, -91.0], [9.0, 0.4444444444444444, -13.555555555555557, -17.555555555555557, -21.555555555555557, -25.555555555555557, -29.555555555555557, -33.55555555555556, -37.55555555555556, -41.55555555555556], [8.0, 0.3888888888888889, 0.22950819672131142, -12.581967213114755, -15.16393442622951, -17.74590163934426, -20.327868852459016, -22.90983606557377, -25.49180327868853, -28.073770491803277], [7.0, 0.3333333333333333, 0.1967213114754099, 0.1758957654723127, -11.758957654723126, -13.517915309446256, -15.276872964169382, -17.035830618892508, -18.794788273615634, -20.553745928338767], [6.0, 0.2777777777777778, 0.16393442622950813, 0.1465798045602606, 0.12465373961218836, -11.246537396121884, -12.493074792243767, -13.739612188365651, -14.986149584487535, -16.23268698060942], [5.0, 0.2222222222222222, 0.1311475409836066, 0.11726384364820845, 0.09972299168975068, 0.0886699507389163, -10.886699507389162, -11.773399014778326, -12.660098522167486, -13.54679802955665], [4.0, 0.16666666666666666, 0.09836065573770494, 0.08794788273615635, 0.07479224376731303, 0.06650246305418715, 0.061085972850678794, -10.610859728506789, -11.221719457013576, -11.832579185520364], [3.0, 0.1111111111111111, 0.0655737704918033, 0.058631921824104226, 0.04986149584487534, 0.04433497536945815, 0.04072398190045246, 0.03837953091684437, -10.383795309168445, -10.767590618336888], [2.0, 0.05555555555555555, 0.03278688524590165, 0.029315960912052113, 0.02493074792243767, 0.022167487684729075, 0.02036199095022623, 0.019189765458422187, 0.018480492813141673, -9.184804928131417]]\n",
    "# y = [55, -494.0, -218.44444444444446, -139.75409836065575, -93.77850162866449, -64.79224376731301, -44.08866995073893, -27.873303167420815, -14.17910447761193, -1.827515400410661]\n",
    "# x = [1.0480661748267366, 1.3100827185334272, 1.1790744466800787, 1.1790744466800822, 1.1790744466800804, 1.1790744466800778, 1.1790744466800824, 1.1790744466800815, 1.15917728593785, 0.19897160742230985]"
   ]
  },
  {
   "cell_type": "code",
   "execution_count": 13,
   "id": "38baf7f0",
   "metadata": {},
   "outputs": [
    {
     "name": "stdout",
     "output_type": "stream",
     "text": [
      "A = [[3, 2, 4], [0.3333333333333333, 0.33333333333333337, 0.6666666666666667], [1.3333333333333333, 1.0000000000000002, -8.0]]\n",
      "y = [1, 1.6666666666666667, -4.440892098500626e-16]\n",
      "x = [-3.0, 5.0, 5.551115123125783e-17]\n"
     ]
    }
   ],
   "source": [
    "# Obtendo os fatores L e U\n",
    "A = LUDecomposition(A4)\n",
    "print(\"A =\",A)\n",
    "\n",
    "y = solveLowerTriangularMatrix(A,b4)\n",
    "print(\"y =\",y)\n",
    "\n",
    "x = solveUpperTriangularMatrix(A,y)\n",
    "print(\"x =\",x)"
   ]
  },
  {
   "cell_type": "code",
   "execution_count": 14,
   "id": "c1ed04ba",
   "metadata": {},
   "outputs": [],
   "source": [
    "# Saída esperada:\n",
    "# A = [[3, 2, 4], [0.3333333333333333, 0.33333333333333337, 0.6666666666666667], [1.3333333333333333, 1.0000000000000002, -8.0]]\n",
    "# y = [1, 1.6666666666666667, -4.440892098500626e-16]\n",
    "# x = [-3.0, 5.0, 5.551115123125783e-17]"
   ]
  },
  {
   "cell_type": "code",
   "execution_count": 6,
   "id": "b0a79ae4",
   "metadata": {},
   "outputs": [
    {
     "name": "stdout",
     "output_type": "stream",
     "text": [
      "A = [[2, 10, 8, 8, 6], [0.5, -1.0, -6.0, 0.0, -4.0], [0.0, -2.0, -9.0, 2.0, -7.0], [1.5, 7.0, -3.6666666666666665, 5.333333333333333, 2.3333333333333357], [0.5, 1.0, -0.3333333333333333, -0.25000000000000006, 0.250000000000001]]\n",
      "y = [52, -12.0, -12.0, 13.0, 0.25]\n",
      "x = [1.0000000000000178, 1.9999999999999947, 1.0000000000000036, 2.0000000000000013, 0.999999999999996]\n"
     ]
    }
   ],
   "source": [
    "# Obtendo os fatores L e U\n",
    "A = LUDecomposition(A5)\n",
    "print(\"A =\",A)\n",
    "\n",
    "y = solveLowerTriangularMatrix(A,b5)\n",
    "print(\"y =\",y)\n",
    "\n",
    "x = solveUpperTriangularMatrix(A,y)\n",
    "print(\"x =\",x)"
   ]
  }
 ],
 "metadata": {
  "kernelspec": {
   "display_name": "Python 3 (ipykernel)",
   "language": "python",
   "name": "python3"
  },
  "language_info": {
   "codemirror_mode": {
    "name": "ipython",
    "version": 3
   },
   "file_extension": ".py",
   "mimetype": "text/x-python",
   "name": "python",
   "nbconvert_exporter": "python",
   "pygments_lexer": "ipython3",
   "version": "3.8.13"
  }
 },
 "nbformat": 4,
 "nbformat_minor": 5
}

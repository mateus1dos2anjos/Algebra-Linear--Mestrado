{
 "cells": [
  {
   "cell_type": "markdown",
   "id": "61e7ebcc",
   "metadata": {},
   "source": [
    "# Álgebra Linear Computacional - CKP8122 - MDCC - UFC\n",
    "### Francisco Mateus dos Anjos Silva\n",
    "# Métodos de Potência"
   ]
  },
  {
   "cell_type": "markdown",
   "id": "9e0574d5",
   "metadata": {},
   "source": [
    "**Método de Potência Regular**\n",
    "\n",
    "Em matemática, o método de potência (ou *power iterarion*) é um algoritmo de autovalor: dada uma matriz diagonalizável ${\\displaystyle A}$, o algoritmo produzirá um número ${\\displaystyle \\lambda }$, que é o maior (em valor absoluto) autovalor de ${\\displaystyle A}$, e um vetor diferente de zero ${\\displaystyle v}$, que é um autovetor correspondente de ${\\displaystyle \\lambda }$, ou seja, ${\\displaystyle Av=\\lambda v}$. O algoritmo também é conhecido como iteração de Von Mises.\n",
    "\n",
    "O método de potência é um algoritmo muito simples, mas pode convergir lentamente. A operação mais demorada do algoritmo é a multiplicação da matriz ${\\displaystyle A}$ por um vetor, por isso é eficaz para uma matriz esparsa muito grande com implementação apropriada.\n",
    "\n",
    "O algoritmo do método de potência começa com um vetor ${\\displaystyle b_{0}}$, que pode ser uma aproximação do autovetor dominante ou um vetor aleatório. O método é descrito pela relação de recorrência:\n",
    "\n",
    "${\\displaystyle b_{k+1}={\\frac {Ab_{k}}{\\|Ab_{k}\\|}}}$\n",
    "\n",
    "Assim, a cada iteração, o vetor ${\\displaystyle b_{k}}$ é multiplicado pela matriz ${\\displaystyle A}$ e normalizado.\n",
    "\n",
    "Se assumirmos que ${\\displaystyle A}$ tem um autovalor que é estritamente maior em magnitude do que seus outros autovalores e o vetor inicial ${\\displaystyle b_{0}}$ tem um componente diferente de zero na direção de um autovetor associado ao autovalor dominante, então uma subsequência ${\\displaystyle \\left(b_{k}\\right)}$ converge para um autovetor associado ao autovalor dominante.\n",
    "\n",
    "Sem as duas suposições acima, a sequência ${\\displaystyle \\left(b_{k}\\right)}$ não necessariamente converge.\n",
    "\n",
    "**Método de Potência Inversa com deslocamento**\n",
    "\n",
    "O método de potência inversa é um algoritmo iterativo de autovalor. Ele permite encontrar um autovetor aproximado quando uma aproximação de um autovalor correspondente já é conhecida. O método é conceitualmente semelhante ao método de Potência Regular. \n",
    "\n",
    "O algoritmo de iteração de potência inversa começa com uma aproximação ${\\displaystyle \\mu }$ para o autovalor correspondente ao autovetor desejado e um vetor ${\\displaystyle b_{0}}$, seja um vetor selecionado aleatoriamente ou uma aproximação para o autovetor. O método é descrito pela iteração:\n",
    "\n",
    "${\\displaystyle b_{k+1}={\\frac {(A-\\mu I)^{-1}b_{k}}{C_{k}}},}$,\n",
    "\n",
    "onde ${\\displaystyle C_{k}}$ são algumas constantes geralmente escolhidas como ${\\displaystyle C_{k}=\\|(A-\\mu I)^{-1}b_{k}\\|.}$ \n",
    "\n",
    "A cada iteração, o vetor ${\\displaystyle b_{k}}$ é multiplicado pela matriz ${\\displaystyle (A-\\mu I)^{-1}}$ e normalizado. É exatamente a mesma fórmula do método de potência, exceto pela substituição da matriz ${\\displaystyle A}$ por ${\\displaystyle (A-\\mu I)^{-1}.}$. Quanto mais próxima for escolhida a aproximação ${\\displaystyle \\mu }$ do autovalor, mais rápido o algoritmo converge; no entanto, a escolha incorreta de ${\\displaystyle \\mu }$ pode levar a uma convergência lenta ou à convergência para um autovetor diferente do desejado. Na prática, o método é usado quando uma boa aproximação para o autovalor é conhecida e, portanto, são necessárias apenas algumas (muitas vezes apenas uma) iterações.\n",
    "\n",
    "A ideia básica do método de potência regular é escolher um vetor inicial ${\\displaystyle b}$ (ou uma aproximação de autovetor ou um vetor aleatório) e calcular iterativamente ${\\displaystyle Ab,A^{2}b,A^{3}b, ...}$,.... Exceto para um conjunto de medida zero, para qualquer vetor inicial, o resultado irá convergir para um autovetor correspondente ao autovalor dominante.\n",
    "\n",
    "O método de potência inversa faz o mesmo para a matriz ${\\displaystyle (A-\\mu I)^{-1}}$, então ela converge para o autovetor correspondente ao dominante autovalor da matriz ${\\displaystyle (A-\\mu I)^{-1}}$. Os autovalores desta matriz são ${\\displaystyle (\\lambda _{1}-\\mu )^{-1},...,(\\lambda _{n}-\\mu )^{-1},}$ onde ${\\displaystyle \\lambda _{i}}$ são autovalores de ${\\displaystyle A}$. O maior desses números corresponde ao menor de ${\\displaystyle (\\lambda _{1}-\\mu ),...,(\\lambda _{n}-\\mu ).}$. Os autovetores de ${\\displaystyle A}$ e de ${\\displaystyle (A-\\mu I)^{-1}}$ são os mesmos, pois:\n",
    "\n",
    "${\\displaystyle Av=\\lambda v\\Leftrightarrow (A-\\mu I)v=\\lambda v-\\mu v\\Leftrightarrow (\\lambda -\\mu )^{-1}v=(A-\\mu I)^ {-1}v}$\n",
    "\n",
    "Conclusão: O método converge para o autovetor da matriz ${\\displaystyle A}$ correspondente ao autovalor mais próximo de ${\\displaystyle \\mu .}$\n",
    "\n",
    "Em particular, tomando ${\\displaystyle \\mu =0}$, vemos que ${\\displaystyle (A)^{-1}b_{k}}$ converge para o autovetor correspondente ao autovalor de ${\\displaystyle A^{-1}}$ com a maior magnitude ${\\displaystyle {\\frac {1}{\\lambda _{N}}}}$ e, portanto, pode ser usado para determinar o menor autovalor de magnitude de ${\\displaystyle A}$, uma vez que são inversamente relacionados.\n",
    "\n",
    "**Referências:**\n",
    "\n",
    "- https://en.wikipedia.org/wiki/Power_iteration\n",
    "\n",
    "- https://en.wikipedia.org/wiki/Inverse_iteration\n",
    "\n",
    "- https://proceedings.sbmac.org.br/sbmac/article/viewFile/2651/2670#:~:text=O%20M%C3%A9todo%20das%20Pot%C3%AAncias%20com%20deslocamento%20consiste%20em%20gerar%20uma,de%20mesma%20ordem%20de%20A."
   ]
  },
  {
   "cell_type": "code",
   "execution_count": 1,
   "id": "b71aa741",
   "metadata": {},
   "outputs": [],
   "source": [
    "# Implementar e testar os seguintes métodos:\n",
    "\n",
    "# - Potência Regular (A, x, eps)\n",
    "# - Potência Inverso (A, x, eps)\n",
    "# - Potência com Deslocamento (A, x, eps, mu)"
   ]
  },
  {
   "cell_type": "code",
   "execution_count": 2,
   "id": "2441a297",
   "metadata": {},
   "outputs": [],
   "source": [
    "import numpy as np\n",
    "import math"
   ]
  },
  {
   "cell_type": "markdown",
   "id": "fdf0c8c8",
   "metadata": {},
   "source": [
    "### Método de Potência Regular "
   ]
  },
  {
   "cell_type": "code",
   "execution_count": 38,
   "id": "12fc9d52",
   "metadata": {},
   "outputs": [],
   "source": [
    "def metodo_potencia_regular(A, x, eps=0.001):\n",
    "    v = x / np.linalg.norm(x)\n",
    "    new_lambda = 0\n",
    "    qtt_iterations = 0\n",
    "    print('\\nx inicial:',x)\n",
    "    print('v inicial:',v)\n",
    "    while True:\n",
    "        old_lambda = new_lambda\n",
    "        x = A @ v\n",
    "        new_lambda = v.T @ x\n",
    "        v = x / np.linalg.norm(x)\n",
    "        qtt_iterations += 1\n",
    "        if (math.fabs(new_lambda - old_lambda) < eps) or qtt_iterations > 100:\n",
    "            break\n",
    "    print('Quantidade de iterações:',qtt_iterations)\n",
    "    return new_lambda,v"
   ]
  },
  {
   "cell_type": "markdown",
   "id": "4ad2747a",
   "metadata": {},
   "source": [
    "### Teste com dados"
   ]
  },
  {
   "cell_type": "code",
   "execution_count": 53,
   "id": "b69d0878",
   "metadata": {},
   "outputs": [
    {
     "name": "stdout",
     "output_type": "stream",
     "text": [
      "A:\n",
      " [[ 38.  20. -27.  27.]\n",
      " [ 20.  68.  -8.   2.]\n",
      " [-27.  -8.  26. -25.]\n",
      " [ 27.   2. -25.  46.]]\n",
      "\n",
      "x inicial: [-2. -2.  1.  0.]\n",
      "v inicial: [-0.66667 -0.66667  0.33333  0.     ]\n",
      "Quantidade de iterações: 11\n",
      "\n",
      "lambda_n: 99.89106\n",
      "v: [-0.56548 -0.49597  0.42921 -0.50003]\n",
      "\n",
      "Verificação que lambda_n e v são autovalor e autovetor (A * v = lambda_0 * v)\n",
      "A * v: [-56.49694 -49.46936  42.89577 -49.9913 ]\n",
      "lambda_0 * v: [-56.48607 -49.54317  42.87418 -49.94825]\n",
      "\n",
      "Autovalores (numpy): [99.8916   3.5381  12.88448 61.68581]\n",
      "Autovetores (numpy):\n",
      " [[-0.56575 -0.6053   0.54715  0.11898]\n",
      " [-0.49403  0.09278 -0.2268  -0.8342 ]\n",
      " [ 0.42977 -0.78627 -0.37314 -0.24052]\n",
      " [-0.50115 -0.08241 -0.71411  0.48178]]\n"
     ]
    }
   ],
   "source": [
    "A = np.array([[-2,  3, -4,  3],\n",
    "              [-3,  3, -5, -5],\n",
    "              [ 1,  0,  4, -3],\n",
    "              [-5, -1, -2,  4]]).astype(np.float32)\n",
    "A = A @ A.T\n",
    "print('A:\\n', A)\n",
    "\n",
    "n = len(A)\n",
    "x = np.random.randint(-2,2,n).astype(np.float32).T\n",
    "\n",
    "lambda_n, v = metodo_potencia_regular(A,x)\n",
    "print('\\nlambda_n:', lambda_n)\n",
    "print('v:', v)\n",
    "\n",
    "print('\\nVerificação que lambda_n e v são autovalor e autovetor (A * v = lambda_0 * v)')\n",
    "print('A * v:', A @ v)\n",
    "print('lambda_0 * v:', lambda_n * v)\n",
    "\n",
    "print('\\nAutovalores (numpy):',np.linalg.eigvals(A))\n",
    "print('Autovetores (numpy):\\n',np.linalg.eig(A)[1])"
   ]
  },
  {
   "cell_type": "code",
   "execution_count": null,
   "id": "2c2d7486",
   "metadata": {},
   "outputs": [],
   "source": []
  },
  {
   "cell_type": "markdown",
   "id": "be5b8306",
   "metadata": {},
   "source": [
    "### Método de Potência Inversa"
   ]
  },
  {
   "cell_type": "code",
   "execution_count": 40,
   "id": "08b2dfd4",
   "metadata": {},
   "outputs": [],
   "source": [
    "def metodo_potencia_inversa(A, x, eps=0.0001):\n",
    "    v = x / np.linalg.norm(x)\n",
    "    new_lambda = 0\n",
    "    qtt_iterations = 0\n",
    "    print('\\nx inicial:',x)\n",
    "    print('v inicial:',v)\n",
    "    \n",
    "    A_inverse = np.linalg.inv(A)\n",
    "    while True:\n",
    "        old_lambda = new_lambda\n",
    "        x = A_inverse @ v\n",
    "        new_lambda = v.T @ x\n",
    "        v = x / np.linalg.norm(x)\n",
    "        qtt_iterations += 1\n",
    "        if (math.fabs(new_lambda - old_lambda) < eps) or qtt_iterations > 100:\n",
    "            break\n",
    "    print('Quantidade de iterações:',qtt_iterations)\n",
    "    return (1/new_lambda),v"
   ]
  },
  {
   "cell_type": "markdown",
   "id": "a893e6d0",
   "metadata": {},
   "source": [
    "### Teste com dados"
   ]
  },
  {
   "cell_type": "code",
   "execution_count": 52,
   "id": "15fff1dc",
   "metadata": {},
   "outputs": [
    {
     "name": "stdout",
     "output_type": "stream",
     "text": [
      "A:\n",
      " [[ 38.  20. -27.  27.]\n",
      " [ 20.  68.  -8.   2.]\n",
      " [-27.  -8.  26. -25.]\n",
      " [ 27.   2. -25.  46.]]\n",
      "\n",
      "x inicial: [-1.  1. -2.  1.]\n",
      "v inicial: [-0.37796  0.37796 -0.75593  0.37796]\n",
      "Quantidade de iterações: 5\n",
      "\n",
      "lambda_n: 99.89156\n",
      "v: [ 0.56582  0.49348 -0.42992  0.50149]\n",
      "\n",
      "Verificação que lambda_n e v são autovalor e autovetor (A * v = lambda_0 * v)\n",
      "A * v: [ 56.51892  49.31536 -42.94023  50.08066]\n",
      "lambda_0 * v: [ 56.52098  49.29433 -42.94573  50.09428]\n",
      "\n",
      "Autovalores (numpy): [99.8916   3.5381  12.88448 61.68581]\n",
      "Autovetores (numpy):\n",
      " [[-0.56575 -0.6053   0.54715  0.11898]\n",
      " [-0.49403  0.09278 -0.2268  -0.8342 ]\n",
      " [ 0.42977 -0.78627 -0.37314 -0.24052]\n",
      " [-0.50115 -0.08241 -0.71411  0.48178]]\n"
     ]
    }
   ],
   "source": [
    "A = np.array([[-2,  3, -4,  3],\n",
    "              [-3,  3, -5, -5],\n",
    "              [ 1,  0,  4, -3],\n",
    "              [-5, -1, -2,  4]]).astype(np.float32)\n",
    "A = A @ A.T\n",
    "print('A:\\n', A)\n",
    "\n",
    "n = len(A)\n",
    "x = np.random.randint(-2,2,n).astype(np.float32).T\n",
    "\n",
    "lambda_n, v = metodo_potencia_regular(A,x)\n",
    "print('\\nlambda_n:', lambda_n)\n",
    "print('v:', v)\n",
    "\n",
    "print('\\nVerificação que lambda_n e v são autovalor e autovetor (A * v = lambda_0 * v)')\n",
    "print('A * v:', A @ v)\n",
    "print('lambda_0 * v:', lambda_n * v)\n",
    "\n",
    "print('\\nAutovalores (numpy):',np.linalg.eigvals(A))\n",
    "print('Autovetores (numpy):\\n',np.linalg.eig(A)[1])"
   ]
  },
  {
   "cell_type": "code",
   "execution_count": null,
   "id": "8ae14cc9",
   "metadata": {},
   "outputs": [],
   "source": []
  },
  {
   "cell_type": "markdown",
   "id": "f4d71c29",
   "metadata": {},
   "source": [
    "### Método de Potência com Deslocamento"
   ]
  },
  {
   "cell_type": "code",
   "execution_count": 48,
   "id": "0189a0ac",
   "metadata": {},
   "outputs": [],
   "source": [
    "def metodo_potencia_deslocamento(A, x, eps=0.001, mu=0.01):\n",
    "    A_bar = A - mu*np.identity(len(A))\n",
    "    print('\\nA_barra:\\n',A_bar)\n",
    "    lambda_bar_n, v_n = metodo_potencia_inversa(A_bar, x) \n",
    "    lambda_n = lambda_bar_n + mu\n",
    "    return lambda_bar_n, v_n    "
   ]
  },
  {
   "cell_type": "markdown",
   "id": "19368039",
   "metadata": {},
   "source": [
    "### Teste com dados"
   ]
  },
  {
   "cell_type": "code",
   "execution_count": 51,
   "id": "10dd6117",
   "metadata": {},
   "outputs": [
    {
     "name": "stdout",
     "output_type": "stream",
     "text": [
      "A:\n",
      " [[ 38.  20. -27.  27.]\n",
      " [ 20.  68.  -8.   2.]\n",
      " [-27.  -8.  26. -25.]\n",
      " [ 27.   2. -25.  46.]]\n",
      "\n",
      "A_barra:\n",
      " [[ 37.99  20.   -27.    27.  ]\n",
      " [ 20.    67.99  -8.     2.  ]\n",
      " [-27.    -8.    25.99 -25.  ]\n",
      " [ 27.     2.   -25.    45.99]]\n",
      "\n",
      "x inicial: [-1.  1.  1.  0.]\n",
      "v inicial: [-0.57735  0.57735  0.57735  0.     ]\n",
      "Quantidade de iterações: 7\n",
      "\n",
      "lambda_n: 3.5281816537319277\n",
      "v: [ 0.60447 -0.09244  0.78683  0.08348]\n",
      "\n",
      "Verificação que lambda_n e v são autovalor e autovetor (A * v = lambda_0 * v)\n",
      "A * v: [ 2.13097 -0.32385  2.78914  0.30545]\n",
      "lambda_0 * v: [ 2.13269 -0.32613  2.77607  0.29454]\n",
      "\n",
      "Autovalores (numpy): [99.8916   3.5381  12.88448 61.68581]\n",
      "Autovetores (numpy):\n",
      " [[-0.56575 -0.6053   0.54715  0.11898]\n",
      " [-0.49403  0.09278 -0.2268  -0.8342 ]\n",
      " [ 0.42977 -0.78627 -0.37314 -0.24052]\n",
      " [-0.50115 -0.08241 -0.71411  0.48178]]\n"
     ]
    }
   ],
   "source": [
    "A = np.array([[-2,  3, -4,  3],\n",
    "              [-3,  3, -5, -5],\n",
    "              [ 1,  0,  4, -3],\n",
    "              [-5, -1, -2,  4]]).astype(np.float32)\n",
    "A = A @ A.T\n",
    "print('A:\\n', A)\n",
    "\n",
    "n = len(A)\n",
    "x = np.random.randint(-2,2,n).astype(np.float32).T\n",
    "\n",
    "lambda_n, v = metodo_potencia_deslocamento(A,x)\n",
    "print('\\nlambda_n:', lambda_n)\n",
    "print('v:', v)\n",
    "\n",
    "print('\\nVerificação que lambda_n e v são autovalor e autovetor (A * v = lambda_0 * v)')\n",
    "print('A * v:', A @ v)\n",
    "print('lambda_0 * v:', lambda_n * v)\n",
    "\n",
    "print('\\nAutovalores (numpy):',np.linalg.eigvals(A))\n",
    "print('Autovetores (numpy):\\n',np.linalg.eig(A)[1])"
   ]
  },
  {
   "cell_type": "code",
   "execution_count": null,
   "id": "0bbdce33",
   "metadata": {},
   "outputs": [],
   "source": []
  }
 ],
 "metadata": {
  "kernelspec": {
   "display_name": "Python 3 (ipykernel)",
   "language": "python",
   "name": "python3"
  },
  "language_info": {
   "codemirror_mode": {
    "name": "ipython",
    "version": 3
   },
   "file_extension": ".py",
   "mimetype": "text/x-python",
   "name": "python",
   "nbconvert_exporter": "python",
   "pygments_lexer": "ipython3",
   "version": "3.8.13"
  }
 },
 "nbformat": 4,
 "nbformat_minor": 5
}

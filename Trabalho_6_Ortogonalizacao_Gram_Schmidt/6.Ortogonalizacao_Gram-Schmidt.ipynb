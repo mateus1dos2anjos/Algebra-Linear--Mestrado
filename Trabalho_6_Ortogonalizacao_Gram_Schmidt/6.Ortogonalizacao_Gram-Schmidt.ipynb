{
 "cells": [
  {
   "cell_type": "markdown",
   "id": "61e7ebcc",
   "metadata": {},
   "source": [
    "# Álgebra Linear Computacional - CKP8122 - MDCC - UFC\n",
    "### Francisco Mateus dos Anjos Silva\n",
    "# Ortogonalização de Gram-Schmidt"
   ]
  },
  {
   "cell_type": "markdown",
   "id": "9e0574d5",
   "metadata": {},
   "source": [
    "O Processo de Ortogonalização de Gram–Schmidt é um algoritmo para obter uma base ortogonal (ou ortonormal) a partir de uma base qualquer. De maneira mais geral, o método permite transformar um conjunto de vetores linearmente independentes em um conjunto ortogonal que gera o mesmo espaço vetorial.\n",
    "\n",
    "Vetores de um conjunto de vetores são linearmente independentes se nenhum dos vetores puder ser escrito combinação linear dos demais.\n",
    "\n",
    "Seja $ B = \\left\\{ v_1, v_2, \\dotsc ,v_n \\right\\} $ um conjunto de vetores. Defini-se\n",
    " - $u_1 = v_1 $ \n",
    " - $ u_2 = v_2 - \\frac{ \\langle v_2,u_1 \\rangle }{ \\langle u_1,u_1 \\rangle }u_1 $\n",
    " - $ u_3 = v_3 - \\frac{ \\langle v_3,u_1 \\rangle }{ \\langle u_1,u_1 \\rangle }u_1 - \\frac{ \\langle v_3,u_2 \\rangle }{ \\langle u_2,u_2 \\rangle }u_2 $\n",
    "\n",
    "De forma geral, temos que\n",
    " - $ u_k = v_k - \\sum_{j=1}^{k-1} \\frac{ \\langle v_k,u_j \\rangle }{ \\langle u_j,u_j \\rangle }u_j $\n",
    "\n",
    "\n",
    "**Referências:**\n",
    "- https://www.ufrgs.br/reamat/AlgebraLinear/livro/s13-o_processo_de_ortogonalizax00e7x00e3o_de_gramx2013schmidt.html\n",
    "- https://www.ufrgs.br/reamat/AlgebraLinear/livro/s3-dependx00eancia_e_independx00eancia_linear.html\n"
   ]
  },
  {
   "cell_type": "code",
   "execution_count": 1,
   "id": "b71aa741",
   "metadata": {},
   "outputs": [],
   "source": [
    "# Implemente o método de ortogonalização de Gram-Schmidt e faça o que se pede:\n",
    "\n",
    "# 1) Dado um conjunto de n vetores do Rm com n < m, usando o método da Tarefa 04 (RREF), \n",
    "#    estenda esse conjunto de vetores para achar uma base do Rm;\n",
    "# 2) Use o processo de ortogonalização de Gram-Schmidt sobre a base estendida, \n",
    "#    para encontrar uma base ortonormal do Rm."
   ]
  },
  {
   "cell_type": "code",
   "execution_count": 2,
   "id": "2441a297",
   "metadata": {},
   "outputs": [],
   "source": [
    "import numpy as np\n",
    "from functions_for_gram_schmidt import back_substitution, get_matrix_elimination, gauss_elimination, piv_colums, rref, eliminate_element_by_piv, nullspace, get_basis, normalize_basis"
   ]
  },
  {
   "cell_type": "code",
   "execution_count": 3,
   "id": "534c3c43",
   "metadata": {},
   "outputs": [],
   "source": [
    "def gram_schmidt(A):\n",
    "    A = A.astype(np.float32)\n",
    "    # Número de linhas \n",
    "    n = len(A)\n",
    "    # Número de colunas\n",
    "    m = len(A[0])\n",
    "    matrix_ortoghonal = np.array([A[0]])\n",
    "    matrix_ortoghonal = normalize_basis(matrix_ortoghonal)\n",
    "    \n",
    "    for i in range(1, n):\n",
    "        proj_sum = np.zeros(m)\n",
    "        for j in range(0, i):\n",
    "            proj_sum = proj_sum + ( matrix_ortoghonal[j] * (np.inner(matrix_ortoghonal[j],A[i]) / np.inner(matrix_ortoghonal[j],matrix_ortoghonal[j])) )\n",
    "        r = A[i] - proj_sum\n",
    "        r = normalize_basis([r])\n",
    "        matrix_ortoghonal = np.append(arr = matrix_ortoghonal, values = r, axis=0)    \n",
    "    return matrix_ortoghonal;"
   ]
  },
  {
   "cell_type": "code",
   "execution_count": 4,
   "id": "2b611bfa",
   "metadata": {},
   "outputs": [
    {
     "name": "stdout",
     "output_type": "stream",
     "text": [
      "Base para a Matriz A1:\n",
      " [[ 1.  0.  1.]\n",
      " [ 1.  1.  0.]\n",
      " [-1.  1.  1.]]\n",
      "\n",
      "Base Ortonormal:\n",
      " [[ 0.70710677  0.          0.70710677]\n",
      " [ 0.40824829  0.81649658 -0.40824829]\n",
      " [-0.57735027  0.57735027  0.57735027]]\n"
     ]
    }
   ],
   "source": [
    "# Testando com dados 1\n",
    "\n",
    "A1 = np.array([[1, 0, 1],\n",
    "              [1, 1, 0]])\n",
    "\n",
    "basis = get_basis(A1)\n",
    "print(\"Base para a Matriz A1:\\n\", basis)\n",
    "\n",
    "# Base ortonormal\n",
    "W = gram_schmidt(basis)\n",
    "print(\"\\nBase Ortonormal:\\n\", W)"
   ]
  },
  {
   "cell_type": "code",
   "execution_count": 5,
   "id": "f2460d4c",
   "metadata": {},
   "outputs": [
    {
     "name": "stdout",
     "output_type": "stream",
     "text": [
      "Base para a Matriz A2:\n",
      " [[ 1.   1.   0. ]\n",
      " [ 2.   0.  -1. ]\n",
      " [ 0.5 -0.5  1. ]]\n",
      "\n",
      "Base Ortonormal:\n",
      " [[ 0.70710677  0.70710677  0.        ]\n",
      " [ 0.57735027 -0.57735027 -0.57735027]\n",
      " [ 0.40824829 -0.40824829  0.81649658]]\n"
     ]
    }
   ],
   "source": [
    "# Testando com dados 2\n",
    "\n",
    "A2 = np.array([[1, 1, 0],\n",
    "               [2, 0, -1]])\n",
    "\n",
    "basis = get_basis(A2)\n",
    "print(\"Base para a Matriz A2:\\n\", basis)\n",
    "\n",
    "# Base ortonormal\n",
    "W = gram_schmidt(basis)\n",
    "print(\"\\nBase Ortonormal:\\n\", W)"
   ]
  },
  {
   "cell_type": "code",
   "execution_count": 6,
   "id": "151f3759",
   "metadata": {},
   "outputs": [
    {
     "name": "stdout",
     "output_type": "stream",
     "text": [
      "Base para a Matriz A3:\n",
      " [[  4.   -5.    1.    7.  -10.    5.    3. ]\n",
      " [ -2.    0.    9.    2.    1.    4.    0. ]\n",
      " [  4.5   3.8   1.    0.    0.    0.    0. ]\n",
      " [  1.    2.2   0.    1.    0.    0.    0. ]\n",
      " [  0.5  -1.6   0.    0.    1.    0.    0. ]\n",
      " [  2.    2.6   0.    0.    0.    1.    0. ]\n",
      " [  0.    0.6   0.    0.    0.    0.    1. ]]\n",
      "\n",
      "Base Ortonormal:\n",
      " [[ 2.66666681e-01 -3.33333343e-01  6.66666701e-02  4.66666669e-01\n",
      "  -6.66666687e-01  3.33333343e-01  2.00000003e-01]\n",
      " [-2.40598865e-01  5.46815622e-02  8.74904952e-01  1.20299430e-01\n",
      "   2.07789932e-01  3.39025667e-01 -3.28089367e-02]\n",
      " [ 7.53250174e-01  6.36077921e-01  1.67388929e-01 -3.28847031e-09\n",
      "   5.21769181e-09 -2.00232279e-09 -1.52487265e-09]\n",
      " [-4.18398927e-01  5.59311467e-01 -2.42588378e-01  6.73248765e-01\n",
      "  -1.78998963e-08  6.94353832e-09  5.23620817e-09]\n",
      " [ 3.52838557e-01 -3.89223423e-01 -1.08724517e-01  5.03452992e-01\n",
      "   6.77291772e-01  2.28994954e-09  1.73127018e-09]\n",
      " [-1.23772322e-02  1.09963028e-01 -3.62161958e-01 -2.29541436e-01\n",
      "   1.82129464e-01  8.77914142e-01 -6.03446859e-09]\n",
      " [-6.25247354e-02  6.99116250e-02  1.56971373e-02 -9.12808431e-02\n",
      "   1.43120969e-01 -5.67207477e-02  9.79246432e-01]]\n"
     ]
    }
   ],
   "source": [
    "# Testando com dados 3\n",
    "\n",
    "A3 = np.array([[ 4, -5, 1, 7, -10, 5, 3],\n",
    "               [-2,  0, 9, 2,   1, 4, 0]])\n",
    "\n",
    "basis = get_basis(A3)\n",
    "print(\"Base para a Matriz A3:\\n\", basis)\n",
    "\n",
    "# Base ortonormal\n",
    "W = gram_schmidt(basis)\n",
    "print(\"\\nBase Ortonormal:\\n\", W)"
   ]
  },
  {
   "cell_type": "code",
   "execution_count": 7,
   "id": "bb85ed86",
   "metadata": {},
   "outputs": [
    {
     "name": "stdout",
     "output_type": "stream",
     "text": [
      "Base para a Matriz A4:\n",
      " [[ 2.000e+00  3.000e+00  5.000e+00  2.000e+00  1.000e+00]\n",
      " [-5.000e+00  6.000e+00 -1.700e+01 -3.000e+00  1.000e+00]\n",
      " [ 7.000e+00 -4.000e+00  3.000e+00  1.300e+01  1.000e+00]\n",
      " [-2.042e+00 -8.000e-03  4.210e-01  1.000e+00  0.000e+00]\n",
      " [-3.060e-01 -2.370e-01  6.500e-02  0.000e+00  1.000e+00]]\n",
      "\n",
      "Base Ortonormal:\n",
      " [[ 3.04997146e-01  4.57495719e-01  7.62492895e-01  3.04997146e-01\n",
      "   1.52498573e-01]\n",
      " [-8.31156771e-02  8.21378749e-01 -5.23139903e-01  5.70402164e-02\n",
      "   2.03714975e-01]\n",
      " [ 3.42526700e-01 -2.52812445e-01 -3.33985667e-01  8.38312374e-01\n",
      "   6.66878202e-02]\n",
      " [-8.83059584e-01 -3.31977995e-03  1.82244992e-01  4.32413589e-01\n",
      "   2.63326763e-05]\n",
      " [-5.43117729e-02 -2.28275214e-01  1.30189017e-02 -1.18211803e-01\n",
      "   9.64778283e-01]]\n"
     ]
    }
   ],
   "source": [
    "# Testando com dados 4\n",
    "\n",
    "A4 = np.array([[2, 3, 5, 2, 1], \n",
    "               [-5, 6, -17, -3, 1], \n",
    "               [7, -4, 3, 13, 1]])\n",
    "\n",
    "basis = get_basis(A4)\n",
    "print(\"Base para a Matriz A4:\\n\", basis)\n",
    "\n",
    "# Base ortonormal\n",
    "W = gram_schmidt(basis)\n",
    "print(\"\\nBase Ortonormal:\\n\", W)"
   ]
  },
  {
   "cell_type": "code",
   "execution_count": null,
   "id": "c6d6c1a9",
   "metadata": {},
   "outputs": [],
   "source": []
  }
 ],
 "metadata": {
  "kernelspec": {
   "display_name": "Python 3 (ipykernel)",
   "language": "python",
   "name": "python3"
  },
  "language_info": {
   "codemirror_mode": {
    "name": "ipython",
    "version": 3
   },
   "file_extension": ".py",
   "mimetype": "text/x-python",
   "name": "python",
   "nbconvert_exporter": "python",
   "pygments_lexer": "ipython3",
   "version": "3.8.13"
  }
 },
 "nbformat": 4,
 "nbformat_minor": 5
}

{
 "cells": [
  {
   "cell_type": "markdown",
   "id": "61e7ebcc",
   "metadata": {},
   "source": [
    "# Álgebra Linear Computacional - CKP8122 - MDCC - UFC\n",
    "### Francisco Mateus dos Anjos Silva\n",
    "# Decomposicao de Cholesky"
   ]
  },
  {
   "cell_type": "code",
   "execution_count": 1,
   "id": "b71aa741",
   "metadata": {},
   "outputs": [],
   "source": [
    "# Implementar a decomposição SS^T de Cholesky de uma matriz simétrica e positiva definida.\n",
    "\n",
    "# Nota: Se durante o processo de decomposição, no cálculo de algum elemento da diagonal envolver a raíz quadrada\n",
    "# de um número negativo, o código deve escrever a mensagem \"A Matriz não é positiva definida.\" e parar a execução.\n"
   ]
  },
  {
   "cell_type": "markdown",
   "id": "9e0574d5",
   "metadata": {},
   "source": [
    "A decomposição de Cholesky é uma decomposição de uma matriz **simétrica** e **positiva definida** no produto de uma matriz triangular inferior e sua matriz adjunta. Quando é aplicável, a decomposição de Cholesky é aproximadamente duas vezes mais eficiente que a decomposição LU para resolver sistemas de equações lineares.\n",
    "\n",
    "Matriz Simétrica:\n",
    " - $a_{i,j} = a_{j,i}$  \n",
    "\n",
    "Matriz Definida Positiva:\n",
    " - Os autovalores de A são todos positivos\n",
    " - Menores principais são todos positvos\n",
    " - $v^TAv > 0, \\forall v \\neq 0$\n",
    "\n",
    "Teorema: Se $A$ for uma matriz simétrica e definida positiva, então existe uma única matriz triangular $L$, com elementos diagonais positivos tal que $A = LL^T$.\n",
    "\n",
    "Fórmulas:\n",
    " - $L_{1,1} = \\sqrt{a_{1,1}}$\n",
    " - $L_{i,1} = \\frac{a_{i,1}}{L_{1,1}}$\n",
    " - $L_{i,i} = \\sqrt{a_{i,i} - \\sum_{k=1}^{i-1} L_{i,k}^2 }$\n",
    " - $L_{i,j} = \\frac{ a_{i,j} - \\sum_{k=1}^{j-1} L_{i,k} L_{j,k} }{L_{j,j}}$\n",
    " \n",
    "Fórmulas usadas no algoritmo:\n",
    " - $L_{i,j} = \\sqrt{a_{i,j} - \\sum_{k=1}^{j-1} L_{i,k}^2} , i = j $ \n",
    " - $L_{i,j} = \\frac{a_{i,j} - \\sum_{k=1}^{j-1} l_{i,k} l_{j,k} }{l_{j,j}} , i \\neq j$\n",
    "\n",
    "**Referências:**\n",
    "- https://pt.wikipedia.org/wiki/Fatora%C3%A7%C3%A3o_de_Cholesky\n",
    "\n"
   ]
  },
  {
   "cell_type": "code",
   "execution_count": 2,
   "id": "2441a297",
   "metadata": {},
   "outputs": [],
   "source": [
    "import numpy as np"
   ]
  },
  {
   "cell_type": "code",
   "execution_count": 3,
   "id": "ebb34d6c",
   "metadata": {},
   "outputs": [],
   "source": [
    "def cholesky_decomposition(A):\n",
    "    A = np.array(A, float)\n",
    "    L = np.zeros_like(A)\n",
    "    n = A.shape[0]\n",
    "    for j in range(n):\n",
    "        for i in range(j,n):\n",
    "            if i == j:\n",
    "                sum_k = 0\n",
    "                for k in range(j):\n",
    "                    sum_k += L[i,k]**2\n",
    "                if A[i,j]-sum_k < 0:\n",
    "                    error = \"A Matriz não é positiva definida.\"\n",
    "                    return error\n",
    "                L[i,j] = np.sqrt(A[i,j]-sum_k)\n",
    "            else:\n",
    "                sum_k = 0\n",
    "                for k in range(j):\n",
    "                    sum_k += L[i,k]*L[j,k]\n",
    "                L[i,j] = (A[i,j]-sum_k) / L[j,j]\n",
    "    return L"
   ]
  },
  {
   "cell_type": "code",
   "execution_count": 4,
   "id": "a6541886",
   "metadata": {},
   "outputs": [],
   "source": [
    "#       A.x = b         A = L.L^t  ->  A = L.U\n",
    "#         |\n",
    "# (L.L^t).x = b\n",
    "#        |        \\\n",
    "#   (L^t).x = y    L.y = b\n",
    "#\n",
    "def solve_LU(L,U,b):\n",
    "    L = np.array(L,float)\n",
    "    U = np.array(U,float)\n",
    "    b = np.array(b,float)\n",
    "    n = L.shape[0]\n",
    "    y = np.zeros(n)\n",
    "    x = np.zeros(n)\n",
    "    \n",
    "    # Forward substitution\n",
    "    for i in range(n):\n",
    "        sum_j = 0\n",
    "        for j in range(i):\n",
    "            sum_j += L[i,j] * y[j]\n",
    "        y[i] = (b[i]-sum_j)/L[i,i]\n",
    "    \n",
    "    # Backward substitution\n",
    "    for i in range(n-1,-1,-1):\n",
    "        sum_j = 0\n",
    "        for j in range(i+1,n):\n",
    "            sum_j += U[i,j] * x[j]\n",
    "        x[i] = (y[i]-sum_j)/U[i,i]\n",
    "    \n",
    "    return x"
   ]
  },
  {
   "cell_type": "code",
   "execution_count": 5,
   "id": "18f1807c",
   "metadata": {},
   "outputs": [],
   "source": [
    "# Matrizes\n",
    "\n",
    "H = [[5.2, 3, 0.5, 1, 2],\n",
    "     [3, 6.3, -2, 4, 0],\n",
    "     [0.5, -2, 8, -3.1, 3],\n",
    "     [1, 4, -3.1, 7.6, 2.6],\n",
    "     [2, 0, 3, 2.6, 15]]\n",
    "\n",
    "G = [[5, 3, 0, 1, 2],\n",
    "     [3, 4, -2, 4.5, 0],\n",
    "     [0, -2, 3, -3, 3],\n",
    "     [1, 4.5, -3, 2, 2.6],\n",
    "     [2, 0, 3, 2.6, 5]]\n",
    "\n",
    "\n",
    "M = [[8, 3.22, 0.8, 0, 4.1],\n",
    "     [3.22, 7.76, 2.33, 1.91, -1.03],\n",
    "     [0.8, 2.33, 5.25, 1, 3.02],\n",
    "     [0, 1.91, 1, 7.5, 1.03],\n",
    "     [4.1, -1.03, 3.02, 1.03, 6.44]]\n",
    "\n",
    "b = [9.45, -12.20, 7.78, -8.1, 10]\n",
    "\n",
    "\n",
    "A = [[4, 12, -16],\n",
    "     [12, 37, -43],\n",
    "     [-16, -43, 98]]\n",
    "\n",
    "b1 = [1, 2, 3] \n"
   ]
  },
  {
   "cell_type": "code",
   "execution_count": 6,
   "id": "aed50477",
   "metadata": {},
   "outputs": [
    {
     "name": "stdout",
     "output_type": "stream",
     "text": [
      "[[ 2.28035085  0.          0.          0.          0.        ]\n",
      " [ 1.31558703  2.13757591  0.          0.          0.        ]\n",
      " [ 0.2192645  -1.07058726  2.60878631  0.          0.        ]\n",
      " [ 0.43852901  1.60138263 -0.5679783   2.12618594  0.        ]\n",
      " [ 0.87705802 -0.5397919   0.85472619  1.67683543  3.22444724]]\n"
     ]
    }
   ],
   "source": [
    "# Teste com matriz H\n",
    "\n",
    "S = cholesky_decomposition(H)\n",
    "print(S)"
   ]
  },
  {
   "cell_type": "code",
   "execution_count": 7,
   "id": "90d69f6c",
   "metadata": {
    "scrolled": false
   },
   "outputs": [
    {
     "data": {
      "text/plain": [
       "array([[ 5.2,  3. ,  0.5,  1. ,  2. ],\n",
       "       [ 3. ,  6.3, -2. ,  4. ,  0. ],\n",
       "       [ 0.5, -2. ,  8. , -3.1,  3. ],\n",
       "       [ 1. ,  4. , -3.1,  7.6,  2.6],\n",
       "       [ 2. ,  0. ,  3. ,  2.6, 15. ]])"
      ]
     },
     "execution_count": 7,
     "metadata": {},
     "output_type": "execute_result"
    }
   ],
   "source": [
    "# Verificando se está correto\n",
    "# A = SS^T\n",
    "np.dot(S, np.transpose(S))"
   ]
  },
  {
   "cell_type": "code",
   "execution_count": 8,
   "id": "b9cf51af",
   "metadata": {},
   "outputs": [
    {
     "name": "stdout",
     "output_type": "stream",
     "text": [
      "A Matriz não é positiva definida.\n"
     ]
    }
   ],
   "source": [
    "# Teste com matriz G\n",
    "S = cholesky_decomposition(G)\n",
    "print(S)"
   ]
  },
  {
   "cell_type": "code",
   "execution_count": 9,
   "id": "4de83b2d",
   "metadata": {},
   "outputs": [
    {
     "name": "stdout",
     "output_type": "stream",
     "text": [
      "[[ 2.82842712  0.          0.          0.          0.        ]\n",
      " [ 1.13844192  2.54242994  0.          0.          0.        ]\n",
      " [ 0.28284271  0.78979561  2.13218735  0.          0.        ]\n",
      " [ 0.          0.75124981  0.19072724  2.62664174  0.        ]\n",
      " [ 1.4495689  -1.05420801  1.61459022  0.57641177  0.53688299]]\n"
     ]
    }
   ],
   "source": [
    "# Teste com matriz M\n",
    "L = cholesky_decomposition(M)\n",
    "print(L)"
   ]
  },
  {
   "cell_type": "code",
   "execution_count": 10,
   "id": "16e72be7",
   "metadata": {},
   "outputs": [
    {
     "data": {
      "text/plain": [
       "array([[ 8.  ,  3.22,  0.8 ,  0.  ,  4.1 ],\n",
       "       [ 3.22,  7.76,  2.33,  1.91, -1.03],\n",
       "       [ 0.8 ,  2.33,  5.25,  1.  ,  3.02],\n",
       "       [ 0.  ,  1.91,  1.  ,  7.5 ,  1.03],\n",
       "       [ 4.1 , -1.03,  3.02,  1.03,  6.44]])"
      ]
     },
     "execution_count": 10,
     "metadata": {},
     "output_type": "execute_result"
    }
   ],
   "source": [
    "# Verificando se está correto\n",
    "# A = LL^T\n",
    "np.dot(L, np.transpose(L))"
   ]
  },
  {
   "cell_type": "code",
   "execution_count": 11,
   "id": "560bbb9a",
   "metadata": {},
   "outputs": [
    {
     "name": "stdout",
     "output_type": "stream",
     "text": [
      "[ 25.89728266 -26.33756731  26.83134356   6.55118509 -32.77716327]\n"
     ]
    }
   ],
   "source": [
    "U = np.transpose(L)\n",
    "x = solve_LU(L, U, b)\n",
    "print(x)"
   ]
  },
  {
   "cell_type": "code",
   "execution_count": 12,
   "id": "1a34a172",
   "metadata": {},
   "outputs": [
    {
     "name": "stdout",
     "output_type": "stream",
     "text": [
      "[ 25.89728266 -26.33756731  26.83134356   6.55118509 -32.77716327]\n"
     ]
    }
   ],
   "source": [
    "# Verificando resultado com método do numpy\n",
    "print(np.linalg.solve(M,b))"
   ]
  },
  {
   "cell_type": "code",
   "execution_count": 13,
   "id": "f36b359b",
   "metadata": {},
   "outputs": [
    {
     "name": "stdout",
     "output_type": "stream",
     "text": [
      "[28.58333333 -7.66666667  1.33333333]\n"
     ]
    }
   ],
   "source": [
    "L = cholesky_decomposition(A)\n",
    "U = np.transpose(L)\n",
    "x = solve_LU(L, U, b1)\n",
    "print(x)"
   ]
  },
  {
   "cell_type": "code",
   "execution_count": null,
   "id": "b5ce1bb1",
   "metadata": {},
   "outputs": [],
   "source": []
  }
 ],
 "metadata": {
  "kernelspec": {
   "display_name": "Python 3 (ipykernel)",
   "language": "python",
   "name": "python3"
  },
  "language_info": {
   "codemirror_mode": {
    "name": "ipython",
    "version": 3
   },
   "file_extension": ".py",
   "mimetype": "text/x-python",
   "name": "python",
   "nbconvert_exporter": "python",
   "pygments_lexer": "ipython3",
   "version": "3.8.13"
  }
 },
 "nbformat": 4,
 "nbformat_minor": 5
}

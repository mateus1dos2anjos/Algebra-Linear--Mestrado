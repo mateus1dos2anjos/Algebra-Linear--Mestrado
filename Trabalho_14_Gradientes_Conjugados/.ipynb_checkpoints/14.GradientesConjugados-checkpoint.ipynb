{
 "cells": [
  {
   "cell_type": "markdown",
   "id": "61e7ebcc",
   "metadata": {},
   "source": [
    "# Álgebra Linear Computacional - CKP8122 - MDCC - UFC\n",
    "### Francisco Mateus dos Anjos Silva\n",
    "# Gradientes Conjugados"
   ]
  },
  {
   "cell_type": "markdown",
   "id": "9e0574d5",
   "metadata": {},
   "source": [
    "Em matemática, o método do gradiente conjugado é um algoritmo para a solução numérica de sistemas particulares de equações lineares, aqueles cuja matriz é simétrica e positiva definida. O método do gradiente conjugado é um método iterativo, então ele pode ser aplicado a sistemas esparsos que são grandes demais para ser tratados por métodos diretos como a decomposição de Cholesky. Tais sistemas surgem frequentemente quando se resolve numericamente equações diferenciais parciais.\n",
    "\n",
    "**Referências:**\n",
    "\n",
    "- https://pt.wikipedia.org/wiki/M%C3%A9todo_do_gradiente_conjugado"
   ]
  },
  {
   "cell_type": "code",
   "execution_count": 1,
   "id": "b71aa741",
   "metadata": {},
   "outputs": [],
   "source": [
    "# Implemente o método de Gradientes Conjugados para resolver um sistema de equações algébricas lineares. \n",
    "# Caso a matriz do sistema não seja simétrica, transforme em um sistema equivalente em que a matriz é simétrica.\n",
    "# Compare com os resultados da Tarefa 13 e verifique se a solução é obtida em n passos, onde n é o número de\n",
    "# incógnitas do sistema."
   ]
  },
  {
   "cell_type": "code",
   "execution_count": 2,
   "id": "2441a297",
   "metadata": {},
   "outputs": [],
   "source": [
    "import numpy as np"
   ]
  },
  {
   "cell_type": "code",
   "execution_count": 3,
   "id": "0bbdce33",
   "metadata": {},
   "outputs": [],
   "source": [
    "def conjugate_gradients(A, b, error=0.0001, max_iter=500):\n",
    "    n_A = len(A)\n",
    "    solutions = np.zeros(n_A).reshape(n_A, 1)\n",
    "    previous_solutions = np.zeros(n_A).reshape(n_A, 1)\n",
    "    residuals = b - A @ solutions\n",
    "    conjugates = residuals.copy()\n",
    "    qtd_iter = 1\n",
    "\n",
    "    while qtd_iter <= max_iter:\n",
    "        step = np.dot(residuals.T, residuals) / (conjugates.T @ A @ conjugates)\n",
    "        solutions = previous_solutions + step * conjugates\n",
    "        aux = np.dot(residuals.T, residuals)\n",
    "        residuals = residuals - step * A @ conjugates\n",
    "        \n",
    "        if np.allclose(previous_solutions, solutions, atol=error, rtol=0.):\n",
    "            break\n",
    "        \n",
    "        conjugates = residuals + (np.dot(residuals.T, residuals) / aux)*conjugates\n",
    "        qtd_iter += 1\n",
    "        previous_solutions = solutions;\n",
    "\n",
    "    print('\\nQuantidade de iterações:', qtd_iter)\n",
    "    return solutions"
   ]
  },
  {
   "cell_type": "code",
   "execution_count": 5,
   "id": "0f3d5619",
   "metadata": {},
   "outputs": [
    {
     "name": "stdout",
     "output_type": "stream",
     "text": [
      "Matriz A:\n",
      " [[ 5 -2  1  1]\n",
      " [-2  5  0  2]\n",
      " [ 1  0  2  0]\n",
      " [ 1  2  0  4]]\n",
      "\n",
      "b:\n",
      " [[4]\n",
      " [3]\n",
      " [2]\n",
      " [3]]\n",
      "\n",
      "Solução (numpy): [ 1.186   1.1163  0.407  -0.1047]\n",
      "\n",
      "Quantidade de iterações: 5\n",
      "Solução Gradientes Conjugados: [[ 1.186   1.1163  0.407  -0.1047]]\n"
     ]
    }
   ],
   "source": [
    "np.set_printoptions(precision=4)\n",
    "\n",
    "A = np.array([[ 3,-2, 1, 1],\n",
    "              [-2, 3, 0, 2],\n",
    "              [ 1, 0, 2, 0],\n",
    "              [ 1, 2, 0, 3]])\n",
    "\n",
    "# Se A não é simétrica, descomente a linha abaixo:\n",
    "# A = A @ A.T\n",
    "\n",
    "b = np.array([[4],\n",
    "              [3], \n",
    "              [2], \n",
    "              [3]])\n",
    "\n",
    "print('Matriz A:\\n', A)\n",
    "print('\\nb:\\n', b)\n",
    "\n",
    "print('\\nSolução (numpy):', np.linalg.solve(A,b).flatten())\n",
    "\n",
    "solutions_cg = conjugate_gradients(A, b)\n",
    "print('Solução Gradientes Conjugados:', solutions_cg.T)"
   ]
  },
  {
   "cell_type": "code",
   "execution_count": 7,
   "id": "784d8554",
   "metadata": {},
   "outputs": [
    {
     "name": "stdout",
     "output_type": "stream",
     "text": [
      "Matriz A:\n",
      " [[ 61 -51 -19]\n",
      " [-51  43  16]\n",
      " [-19  16   6]]\n",
      "\n",
      "b:\n",
      " [[-537]\n",
      " [ 451]\n",
      " [ 168]]\n",
      "\n",
      "Solução (numpy): [-4.  5.  2.]\n",
      "\n",
      "Quantidade de iterações: 4\n",
      "Solução Gradientes Conjugados: [[-4.  5.  2.]]\n"
     ]
    }
   ],
   "source": [
    "np.set_printoptions(precision=4)\n",
    "\n",
    "A = np.array([[6,  -5, -2],\n",
    "              [-3,  3,  1],\n",
    "              [-4,  3,  1]])\n",
    "\n",
    "b = np.array([[-53],\n",
    "              [29], \n",
    "              [33]])\n",
    "\n",
    "A_a = A.T @ A\n",
    "\n",
    "A_b = A.T @ b\n",
    "\n",
    "print('Matriz A:\\n', A_a)\n",
    "print('\\nb:\\n', A_b)\n",
    "\n",
    "print('\\nSolução (numpy):', np.linalg.solve(A_a,A_b).flatten())\n",
    "\n",
    "solutions_cg = conjugate_gradients(A_a, A_b)\n",
    "print('Solução Gradientes Conjugados:', solutions_cg.T)"
   ]
  }
 ],
 "metadata": {
  "kernelspec": {
   "display_name": "Python 3 (ipykernel)",
   "language": "python",
   "name": "python3"
  },
  "language_info": {
   "codemirror_mode": {
    "name": "ipython",
    "version": 3
   },
   "file_extension": ".py",
   "mimetype": "text/x-python",
   "name": "python",
   "nbconvert_exporter": "python",
   "pygments_lexer": "ipython3",
   "version": "3.8.13"
  }
 },
 "nbformat": 4,
 "nbformat_minor": 5
}

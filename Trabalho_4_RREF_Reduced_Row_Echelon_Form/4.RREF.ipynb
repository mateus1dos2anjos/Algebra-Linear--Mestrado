{
 "cells": [
  {
   "cell_type": "markdown",
   "id": "61e7ebcc",
   "metadata": {},
   "source": [
    "# Álgebra Linear Computacional - CKP8122 - MDCC - UFC\n",
    "# Reduced Row Echelon Form (RREF)\n",
    "### Francisco Mateus dos Anjos Silva"
   ]
  },
  {
   "cell_type": "code",
   "execution_count": 1,
   "id": "b71aa741",
   "metadata": {},
   "outputs": [],
   "source": [
    "# Implemente o método para determinar o RREF de uma matriz mxn e, \n",
    "# testando em matrizes com m > n, m < n e m = n, determine:\n",
    "\n",
    "# 1) RREF da matriz;\n",
    "# 2) O posto da matriz (rank): quantidade de linhas não nulas;\n",
    "# 3) A dimensão do espaço nulo da matriz: quantidade de linhas nulas.\n"
   ]
  },
  {
   "cell_type": "code",
   "execution_count": 2,
   "id": "2441a297",
   "metadata": {},
   "outputs": [],
   "source": [
    "import numpy as np\n",
    "import sympy\n",
    "import math"
   ]
  },
  {
   "cell_type": "code",
   "execution_count": 3,
   "id": "00c75317",
   "metadata": {},
   "outputs": [],
   "source": [
    "def eliminate_element_by_pivot(matrix, row=0, col=0):\n",
    "    pivot = float(matrix[col][col])\n",
    "    multiplicator = -(matrix[row][col]/pivot)\n",
    "    matrix[row] = matrix[col].copy() * multiplicator + matrix[row].copy()\n",
    "    return matrix"
   ]
  },
  {
   "cell_type": "code",
   "execution_count": 4,
   "id": "149a2c61",
   "metadata": {},
   "outputs": [],
   "source": [
    "def get_next_index_row_pivot_not_zero(A, column_index):\n",
    "    for i in range(column_index, len(A)):\n",
    "        if A[i][column_index] != 0:\n",
    "            return i\n",
    "    return None"
   ]
  },
  {
   "cell_type": "code",
   "execution_count": 5,
   "id": "51c98613",
   "metadata": {},
   "outputs": [],
   "source": [
    "# Calcula a RREF de uma matriz\n",
    "\n",
    "def rref(A):\n",
    "    # Número de linhas \n",
    "    n = len(A)\n",
    "    # Número de colunas\n",
    "    m = len(A[0])\n",
    "    rref = A.copy()\n",
    "\n",
    "    for i in range(0, m):\n",
    "        if i >= n:\n",
    "            break\n",
    "            \n",
    "        pivot = float(rref[i][i])\n",
    "        if pivot == 0:\n",
    "            # Permutação de Linha\n",
    "            index_row_pivot_not_zero = get_next_index_row_pivot_not_zero(rref, i)            \n",
    "            if not index_row_pivot_not_zero:\n",
    "                # Não encontrado outro possível pivo na coluna i\n",
    "                continue            \n",
    "            # Permutando linhas\n",
    "            rref[i], rref[index_row_pivot_not_zero] = rref[index_row_pivot_not_zero].copy(), rref[i].copy()       \n",
    "            pivot = rref[i][i]            \n",
    "                \n",
    "        # Se o pivo não for 1, divide pelo seu valor para que fique 1\n",
    "        if pivot != 1:\n",
    "            rref[i] = np.true_divide(rref[i].copy(), pivot)          \n",
    "        \n",
    "        # Elimina (zera) os outros valores naquela coluna\n",
    "        for j in range(0, n):\n",
    "            if j != i:\n",
    "                rref = eliminate_element_by_pivot(rref, row=j, col=i)\n",
    "                rref = np.around(rref,decimals=3)\n",
    "    \n",
    "    zeros_row = np.zeros(m)\n",
    "    # Permuta as linhas com valores zero para as últimas linhas\n",
    "    for j in range(0, n):\n",
    "        if (rref[j] == zeros_row).all():            \n",
    "            rref[j], rref[n-1] = rref[n-1].copy(), rref[j].copy()       \n",
    "            \n",
    "    return rref"
   ]
  },
  {
   "cell_type": "code",
   "execution_count": 6,
   "id": "6cf7d2e9",
   "metadata": {},
   "outputs": [],
   "source": [
    "# Encontra as colunas com pivôs de uma matriz\n",
    "\n",
    "def pivot_colums(A):\n",
    "    pivots = []\n",
    "    # Utiliza a RREF para encontrar as colunas pivot\n",
    "    RREF = rref(A)\n",
    "    n = len(RREF)\n",
    "    m = len(RREF[0])\n",
    "    pivot_index = 0\n",
    "    \n",
    "    for i in range(0, n):\n",
    "        if pivot_index >= m:\n",
    "            break\n",
    "            \n",
    "        pivot = 0\n",
    "        # Percorre as colunas procurando um valor diferente de zero\n",
    "        while pivot == 0 and pivot_index < m:\n",
    "            pivot = RREF[i][pivot_index]\n",
    "            if pivot != 0:\n",
    "                pivots.append(pivot_index)\n",
    "            pivot_index+=1\n",
    "            \n",
    "    return pivots"
   ]
  },
  {
   "cell_type": "code",
   "execution_count": 7,
   "id": "8edeca72",
   "metadata": {},
   "outputs": [],
   "source": [
    "# Calcula o posto (rank) de uma matriz\n",
    "\n",
    "def rank(A):\n",
    "    return len(pivot_colums(A))"
   ]
  },
  {
   "cell_type": "code",
   "execution_count": 8,
   "id": "a9f393d3",
   "metadata": {},
   "outputs": [
    {
     "name": "stdout",
     "output_type": "stream",
     "text": [
      "Matriz A:\n",
      " [[1. 2. 3. 4.]\n",
      " [4. 5. 6. 7.]\n",
      " [6. 7. 8. 9.]\n",
      " [5. 7. 8. 9.]\n",
      " [9. 7. 8. 9.]]\n",
      "\n",
      "RREF da matriz:\n",
      " [[ 1.  0.  0.  0.]\n",
      " [ 0.  1.  0. -1.]\n",
      " [-0. -0.  1.  2.]\n",
      " [ 0.  0.  0.  0.]\n",
      " [ 0.  0.  0.  0.]]\n",
      "Sympy RREF: \n",
      " Matrix([[1, 0, 0, 0], [0, 1, 0, -1.00000], [0, 0, 1, 2.00000], [0, 0, 0, 0], [0, 0, 0, 0]])\n",
      "\n",
      "Rank da matriz: 3\n",
      "Sympy Rank 3\n",
      "\n",
      "Dimensão do espaço nulo da matriz: 1\n",
      "Dimensão pelo Sympy: 1\n"
     ]
    }
   ],
   "source": [
    "# Teste com dados 1: 5x4\n",
    "A = np.array([[1, 2, 3, 4],\n",
    "              [4, 5, 6, 7],\n",
    "              [6, 7, 8, 9],\n",
    "              [5, 7, 8, 9],\n",
    "              [9, 7, 8, 9]])\n",
    "\n",
    "A = A.astype(np.float32)\n",
    "\n",
    "num_colunas = A.shape[1]\n",
    "\n",
    "print(\"Matriz A:\\n\", A)\n",
    "\n",
    "RREF = rref(A)\n",
    "print(\"\\nRREF da matriz:\\n\", RREF)\n",
    "print(\"Sympy RREF: \\n {}\".format(sympy.Matrix(A).rref()[0]))\n",
    "\n",
    "rank_result = rank(A)\n",
    "print(\"\\nRank da matriz:\", rank_result)\n",
    "print(\"Sympy Rank\", sympy.Matrix(A).rank())\n",
    "\n",
    "print(\"\\nDimensão do espaço nulo da matriz:\", (num_colunas-rank_result))\n",
    "print(\"Dimensão pelo Sympy:\", len(sympy.Matrix(A).nullspace()))"
   ]
  },
  {
   "cell_type": "code",
   "execution_count": 9,
   "id": "f1291975",
   "metadata": {},
   "outputs": [
    {
     "name": "stdout",
     "output_type": "stream",
     "text": [
      "Matriz A:\n",
      " [[1. 2. 3. 4.]\n",
      " [4. 5. 6. 7.]\n",
      " [6. 7. 8. 9.]]\n",
      "\n",
      "RREF da matriz:\n",
      " [[ 1.  0. -1. -2.]\n",
      " [-0.  1.  2.  3.]\n",
      " [ 0.  0.  0.  0.]]\n",
      "Sympy RREF: \n",
      " Matrix([[1, 0, -1.00000, -2.00000], [0, 1, 2.00000, 3.00000], [0, 0, 0, 0]])\n",
      "\n",
      "Rank da matriz: 2\n",
      "Sympy Rank 2\n",
      "\n",
      "Dimensão do espaço nulo da matriz: 2\n",
      "Dimensão pelo Sympy: 2\n"
     ]
    }
   ],
   "source": [
    "# Teste com dados 2: 3x4\n",
    "A = np.array([[1, 2, 3, 4],\n",
    "              [4, 5, 6, 7],\n",
    "              [6, 7, 8, 9]])\n",
    "\n",
    "A = A.astype(np.float32)\n",
    "\n",
    "num_colunas = A.shape[1]\n",
    "\n",
    "print(\"Matriz A:\\n\", A)\n",
    "\n",
    "RREF = rref(A)\n",
    "print(\"\\nRREF da matriz:\\n\", RREF)\n",
    "print(\"Sympy RREF: \\n {}\".format(sympy.Matrix(A).rref()[0]))\n",
    "\n",
    "rank_result = rank(A)\n",
    "print(\"\\nRank da matriz:\", rank_result)\n",
    "print(\"Sympy Rank\", sympy.Matrix(A).rank())\n",
    "\n",
    "print(\"\\nDimensão do espaço nulo da matriz:\", (num_colunas-rank_result))\n",
    "print(\"Dimensão pelo Sympy:\", len(sympy.Matrix(A).nullspace()))\n"
   ]
  },
  {
   "cell_type": "code",
   "execution_count": 10,
   "id": "f2aea30f",
   "metadata": {},
   "outputs": [
    {
     "name": "stdout",
     "output_type": "stream",
     "text": [
      "Matriz A:\n",
      " [[ 1.  2.  3.  4.  5.  6.  7.  8.  9. 10.]\n",
      " [10.  2.  2.  3.  4.  5.  6.  7.  8.  9.]\n",
      " [ 9. 10.  1.  2.  3.  4.  5.  6.  7.  8.]\n",
      " [ 8.  9. 10.  1.  2.  3.  4.  5.  6.  7.]\n",
      " [ 7.  8.  9. 10.  1.  2.  3.  4.  5.  6.]\n",
      " [ 6.  7.  8.  9. 10.  1.  2.  3.  4.  5.]\n",
      " [ 5.  6.  7.  8.  9. 10.  1.  2.  3.  4.]\n",
      " [ 4.  5.  6.  7.  8.  9. 10.  1.  2.  3.]\n",
      " [ 3.  4.  5.  6.  7.  8.  9. 10.  1.  2.]\n",
      " [ 2.  3.  4.  5.  6.  7.  8.  9. 10.  2.]]\n",
      "\n",
      "RREF da matriz:\n",
      " [[ 1.  0.  0.  0.  0.  0.  0.  0.  0.  0.]\n",
      " [ 0.  1.  0.  0.  0.  0.  0.  0.  0.  0.]\n",
      " [ 0.  0.  1.  0.  0.  0.  0.  0.  0.  0.]\n",
      " [ 0.  0.  0.  1.  0.  0.  0.  0.  0.  0.]\n",
      " [ 0.  0.  0.  0.  1.  0.  0.  0.  0.  0.]\n",
      " [ 0.  0.  0.  0.  0.  1.  0.  0.  0.  0.]\n",
      " [ 0.  0.  0.  0.  0.  0.  1.  0.  0.  0.]\n",
      " [ 0.  0.  0.  0.  0.  0.  0.  1.  0.  0.]\n",
      " [ 0.  0.  0.  0.  0.  0.  0.  0.  1.  0.]\n",
      " [-0. -0. -0. -0. -0. -0. -0. -0. -0.  1.]]\n",
      "Sympy RREF: \n",
      " Matrix([[1, 0, 0, 0, 0, 0, 0, 0, 0, 0], [0, 1, 0, 0, 0, 0, 0, 0, 0, 0], [0, 0, 1, 0, 0, 0, 0, 0, 0, 0], [0, 0, 0, 1, 0, 0, 0, 0, 0, 0], [0, 0, 0, 0, 1, 0, 0, 0, 0, 0], [0, 0, 0, 0, 0, 1, 0, 0, 0, 0], [0, 0, 0, 0, 0, 0, 1, 0, 0, 0], [0, 0, 0, 0, 0, 0, 0, 1, 0, 0], [0, 0, 0, 0, 0, 0, 0, 0, 1, 0], [0, 0, 0, 0, 0, 0, 0, 0, 0, 1]])\n",
      "\n",
      "Rank da matriz: 10\n",
      "Sympy Rank 10\n",
      "\n",
      "Dimensão do espaço nulo da matriz: 0\n",
      "Dimensão pelo Sympy: 0\n"
     ]
    }
   ],
   "source": [
    "# Teste com dados 3: 10x10\n",
    "A = np.array([[1,2,3,4,5,6,7,8,9,10],\n",
    "      [10,2,2,3,4,5,6,7,8,9],\n",
    "      [9,10,1,2,3,4,5,6,7,8],\n",
    "      [8,9,10,1,2,3,4,5,6,7],\n",
    "      [7,8,9,10,1,2,3,4,5,6],\n",
    "      [6,7,8,9,10,1,2,3,4,5],\n",
    "      [5,6,7,8,9,10,1,2,3,4],\n",
    "      [4,5,6,7,8,9,10,1,2,3],\n",
    "      [3,4,5,6,7,8,9,10,1,2],\n",
    "      [2,3,4,5,6,7,8,9,10,2]])\n",
    "\n",
    "A = A.astype(np.float32)\n",
    "\n",
    "num_colunas = A.shape[1]\n",
    "\n",
    "print(\"Matriz A:\\n\", A)\n",
    "\n",
    "RREF = rref(A)\n",
    "print(\"\\nRREF da matriz:\\n\", RREF)\n",
    "print(\"Sympy RREF: \\n {}\".format(sympy.Matrix(A).rref()[0]))\n",
    "\n",
    "rank_result = rank(A)\n",
    "print(\"\\nRank da matriz:\", rank_result)\n",
    "print(\"Sympy Rank\", sympy.Matrix(A).rank())\n",
    "\n",
    "print(\"\\nDimensão do espaço nulo da matriz:\", (num_colunas-rank_result))\n",
    "print(\"Dimensão pelo Sympy:\", len(sympy.Matrix(A).nullspace()))\n"
   ]
  },
  {
   "cell_type": "code",
   "execution_count": null,
   "id": "c8d5fef5",
   "metadata": {},
   "outputs": [],
   "source": []
  }
 ],
 "metadata": {
  "kernelspec": {
   "display_name": "Python 3 (ipykernel)",
   "language": "python",
   "name": "python3"
  },
  "language_info": {
   "codemirror_mode": {
    "name": "ipython",
    "version": 3
   },
   "file_extension": ".py",
   "mimetype": "text/x-python",
   "name": "python",
   "nbconvert_exporter": "python",
   "pygments_lexer": "ipython3",
   "version": "3.8.13"
  }
 },
 "nbformat": 4,
 "nbformat_minor": 5
}
